{
 "cells": [
  {
   "cell_type": "markdown",
   "id": "39d61f26",
   "metadata": {},
   "source": [
    "# 1. Importing necessari Library"
   ]
  },
  {
   "cell_type": "code",
   "execution_count": 3,
   "id": "d31beeb6",
   "metadata": {},
   "outputs": [],
   "source": [
    "import pandas as pd\n",
    "import seaborn as sns\n",
    "from matplotlib import pyplot as plt\n",
    "from nltk.corpus import stopwords\n",
    "from textblob import TextBlob\n",
    "\n",
    "\n",
    "import warnings\n",
    "warnings.filterwarnings('ignore')"
   ]
  },
  {
   "cell_type": "markdown",
   "id": "3a39a51e",
   "metadata": {},
   "source": [
    "# 2. Importing Data"
   ]
  },
  {
   "cell_type": "code",
   "execution_count": 99,
   "id": "4be67c70",
   "metadata": {},
   "outputs": [
    {
     "data": {
      "text/html": [
       "<div>\n",
       "<style scoped>\n",
       "    .dataframe tbody tr th:only-of-type {\n",
       "        vertical-align: middle;\n",
       "    }\n",
       "\n",
       "    .dataframe tbody tr th {\n",
       "        vertical-align: top;\n",
       "    }\n",
       "\n",
       "    .dataframe thead th {\n",
       "        text-align: right;\n",
       "    }\n",
       "</style>\n",
       "<table border=\"1\" class=\"dataframe\">\n",
       "  <thead>\n",
       "    <tr style=\"text-align: right;\">\n",
       "      <th></th>\n",
       "      <th>Date</th>\n",
       "      <th>Comment</th>\n",
       "      <th>Likes</th>\n",
       "      <th>User Name</th>\n",
       "      <th>Unnamed: 4</th>\n",
       "      <th>Reply Count</th>\n",
       "    </tr>\n",
       "  </thead>\n",
       "  <tbody>\n",
       "    <tr>\n",
       "      <th>0</th>\n",
       "      <td>2 years ago (edited)</td>\n",
       "      <td>Planning to buy a new car &amp; need guidance on w...</td>\n",
       "      <td>291</td>\n",
       "      <td>MotorOctane</td>\n",
       "      <td>NaN</td>\n",
       "      <td>62.0</td>\n",
       "    </tr>\n",
       "    <tr>\n",
       "      <th>1</th>\n",
       "      <td>1 year ago</td>\n",
       "      <td>no one would be able to explain all these tran...</td>\n",
       "      <td>1500</td>\n",
       "      <td>rasikraj jangale</td>\n",
       "      <td>NaN</td>\n",
       "      <td>0.0</td>\n",
       "    </tr>\n",
       "    <tr>\n",
       "      <th>2</th>\n",
       "      <td>10 months ago</td>\n",
       "      <td>I find IMT more interesting bcos you don't hav...</td>\n",
       "      <td>71</td>\n",
       "      <td>Sufiyan Sheikh</td>\n",
       "      <td>NaN</td>\n",
       "      <td>0.0</td>\n",
       "    </tr>\n",
       "    <tr>\n",
       "      <th>3</th>\n",
       "      <td>1 year ago</td>\n",
       "      <td>This was very helpful! You can also add timest...</td>\n",
       "      <td>99</td>\n",
       "      <td>Vasu Agarwal</td>\n",
       "      <td>NaN</td>\n",
       "      <td>0.0</td>\n",
       "    </tr>\n",
       "    <tr>\n",
       "      <th>4</th>\n",
       "      <td>2 years ago</td>\n",
       "      <td>Wow!!! I am damn sure no one could have explai...</td>\n",
       "      <td>17</td>\n",
       "      <td>Chiranjeet Giri</td>\n",
       "      <td>NaN</td>\n",
       "      <td>0.0</td>\n",
       "    </tr>\n",
       "    <tr>\n",
       "      <th>...</th>\n",
       "      <td>...</td>\n",
       "      <td>...</td>\n",
       "      <td>...</td>\n",
       "      <td>...</td>\n",
       "      <td>...</td>\n",
       "      <td>...</td>\n",
       "    </tr>\n",
       "    <tr>\n",
       "      <th>1183</th>\n",
       "      <td>1 year ago</td>\n",
       "      <td>Aree totle</td>\n",
       "      <td>0</td>\n",
       "      <td>CRYPTONITE</td>\n",
       "      <td>NaN</td>\n",
       "      <td>2.0</td>\n",
       "    </tr>\n",
       "    <tr>\n",
       "      <th>1184</th>\n",
       "      <td>1 month ago</td>\n",
       "      <td>nnnnnnnnging</td>\n",
       "      <td>0</td>\n",
       "      <td>Tom Ocean</td>\n",
       "      <td>NaN</td>\n",
       "      <td>NaN</td>\n",
       "    </tr>\n",
       "    <tr>\n",
       "      <th>1185</th>\n",
       "      <td>1 year ago (edited)</td>\n",
       "      <td>My God absolute garbage in explaining  the job...</td>\n",
       "      <td>0</td>\n",
       "      <td>Shobin p</td>\n",
       "      <td>NaN</td>\n",
       "      <td>NaN</td>\n",
       "    </tr>\n",
       "    <tr>\n",
       "      <th>1186</th>\n",
       "      <td>1 year ago</td>\n",
       "      <td>JESUS IS LIVING GOD\\nHE IS COMING SOON...\\nREP...</td>\n",
       "      <td>0</td>\n",
       "      <td>Calix</td>\n",
       "      <td>NaN</td>\n",
       "      <td>0.0</td>\n",
       "    </tr>\n",
       "    <tr>\n",
       "      <th>1187</th>\n",
       "      <td>1 year ago</td>\n",
       "      <td>I feel pity on ur knowledge go n get some auto...</td>\n",
       "      <td>0</td>\n",
       "      <td>Numan Nazir</td>\n",
       "      <td>NaN</td>\n",
       "      <td>0.0</td>\n",
       "    </tr>\n",
       "  </tbody>\n",
       "</table>\n",
       "<p>1188 rows × 6 columns</p>\n",
       "</div>"
      ],
      "text/plain": [
       "                      Date                                            Comment  \\\n",
       "0     2 years ago (edited)  Planning to buy a new car & need guidance on w...   \n",
       "1               1 year ago  no one would be able to explain all these tran...   \n",
       "2            10 months ago  I find IMT more interesting bcos you don't hav...   \n",
       "3               1 year ago  This was very helpful! You can also add timest...   \n",
       "4              2 years ago  Wow!!! I am damn sure no one could have explai...   \n",
       "...                    ...                                                ...   \n",
       "1183            1 year ago                                         Aree totle   \n",
       "1184           1 month ago                                       nnnnnnnnging   \n",
       "1185   1 year ago (edited)  My God absolute garbage in explaining  the job...   \n",
       "1186            1 year ago  JESUS IS LIVING GOD\\nHE IS COMING SOON...\\nREP...   \n",
       "1187            1 year ago  I feel pity on ur knowledge go n get some auto...   \n",
       "\n",
       "      Likes         User Name  Unnamed: 4  Reply Count  \n",
       "0       291       MotorOctane         NaN         62.0  \n",
       "1      1500  rasikraj jangale         NaN          0.0  \n",
       "2        71    Sufiyan Sheikh         NaN          0.0  \n",
       "3        99      Vasu Agarwal         NaN          0.0  \n",
       "4        17   Chiranjeet Giri         NaN          0.0  \n",
       "...     ...               ...         ...          ...  \n",
       "1183      0        CRYPTONITE         NaN          2.0  \n",
       "1184      0         Tom Ocean         NaN          NaN  \n",
       "1185      0          Shobin p         NaN          NaN  \n",
       "1186      0             Calix         NaN          0.0  \n",
       "1187      0       Numan Nazir         NaN          0.0  \n",
       "\n",
       "[1188 rows x 6 columns]"
      ]
     },
     "execution_count": 99,
     "metadata": {},
     "output_type": "execute_result"
    }
   ],
   "source": [
    "data1 = pd.read_excel('Manual vs iMT vs AMT vs DCT vs CVT vs Automatic Transmissions - Which to buy_ - YouTube(1).xlsx')\n",
    "data1"
   ]
  },
  {
   "cell_type": "markdown",
   "id": "1a7da125",
   "metadata": {},
   "source": [
    "# 3. Data Analysis"
   ]
  },
  {
   "cell_type": "code",
   "execution_count": 100,
   "id": "4007eab7",
   "metadata": {},
   "outputs": [],
   "source": [
    "del data1['Unnamed: 4']"
   ]
  },
  {
   "cell_type": "code",
   "execution_count": 103,
   "id": "55663ad9",
   "metadata": {},
   "outputs": [
    {
     "data": {
      "text/html": [
       "<div>\n",
       "<style scoped>\n",
       "    .dataframe tbody tr th:only-of-type {\n",
       "        vertical-align: middle;\n",
       "    }\n",
       "\n",
       "    .dataframe tbody tr th {\n",
       "        vertical-align: top;\n",
       "    }\n",
       "\n",
       "    .dataframe thead th {\n",
       "        text-align: right;\n",
       "    }\n",
       "</style>\n",
       "<table border=\"1\" class=\"dataframe\">\n",
       "  <thead>\n",
       "    <tr style=\"text-align: right;\">\n",
       "      <th></th>\n",
       "      <th>Date</th>\n",
       "      <th>Comment</th>\n",
       "      <th>Likes</th>\n",
       "      <th>User Name</th>\n",
       "      <th>Reply Count</th>\n",
       "    </tr>\n",
       "  </thead>\n",
       "  <tbody>\n",
       "    <tr>\n",
       "      <th>0</th>\n",
       "      <td>2 years ago (edited)</td>\n",
       "      <td>Planning to buy a new car &amp; need guidance on w...</td>\n",
       "      <td>291</td>\n",
       "      <td>MotorOctane</td>\n",
       "      <td>62.0</td>\n",
       "    </tr>\n",
       "    <tr>\n",
       "      <th>1</th>\n",
       "      <td>1 year ago</td>\n",
       "      <td>no one would be able to explain all these tran...</td>\n",
       "      <td>1500</td>\n",
       "      <td>rasikraj jangale</td>\n",
       "      <td>0.0</td>\n",
       "    </tr>\n",
       "    <tr>\n",
       "      <th>2</th>\n",
       "      <td>10 months ago</td>\n",
       "      <td>I find IMT more interesting bcos you don't hav...</td>\n",
       "      <td>71</td>\n",
       "      <td>Sufiyan Sheikh</td>\n",
       "      <td>0.0</td>\n",
       "    </tr>\n",
       "    <tr>\n",
       "      <th>3</th>\n",
       "      <td>1 year ago</td>\n",
       "      <td>This was very helpful! You can also add timest...</td>\n",
       "      <td>99</td>\n",
       "      <td>Vasu Agarwal</td>\n",
       "      <td>0.0</td>\n",
       "    </tr>\n",
       "    <tr>\n",
       "      <th>4</th>\n",
       "      <td>2 years ago</td>\n",
       "      <td>Wow!!! I am damn sure no one could have explai...</td>\n",
       "      <td>17</td>\n",
       "      <td>Chiranjeet Giri</td>\n",
       "      <td>0.0</td>\n",
       "    </tr>\n",
       "    <tr>\n",
       "      <th>5</th>\n",
       "      <td>1 month ago</td>\n",
       "      <td>Automatic is just like a remote car, where you...</td>\n",
       "      <td>1</td>\n",
       "      <td>Abddul Rahman 1857</td>\n",
       "      <td>0.0</td>\n",
       "    </tr>\n",
       "    <tr>\n",
       "      <th>6</th>\n",
       "      <td>2 years ago</td>\n",
       "      <td>Nice comparison ! Would like to see a video on...</td>\n",
       "      <td>8</td>\n",
       "      <td>Alankar Das</td>\n",
       "      <td>0.0</td>\n",
       "    </tr>\n",
       "    <tr>\n",
       "      <th>7</th>\n",
       "      <td>1 year ago</td>\n",
       "      <td>You explained literally everything we need and...</td>\n",
       "      <td>34</td>\n",
       "      <td>Rahul Bicholkar</td>\n",
       "      <td>0.0</td>\n",
       "    </tr>\n",
       "    <tr>\n",
       "      <th>8</th>\n",
       "      <td>1 year ago</td>\n",
       "      <td>IMT seems pretty decent. No clutch plus u get ...</td>\n",
       "      <td>46</td>\n",
       "      <td>Shut da hell up</td>\n",
       "      <td>0.0</td>\n",
       "    </tr>\n",
       "    <tr>\n",
       "      <th>9</th>\n",
       "      <td>2 days ago</td>\n",
       "      <td>Felt like I was talking face to face with a pr...</td>\n",
       "      <td>0</td>\n",
       "      <td>Kash Yeptho55555</td>\n",
       "      <td>0.0</td>\n",
       "    </tr>\n",
       "    <tr>\n",
       "      <th>10</th>\n",
       "      <td>6 months ago</td>\n",
       "      <td>IMO, AMT and AT are best, especially for those...</td>\n",
       "      <td>12</td>\n",
       "      <td>Ayushman Kumar</td>\n",
       "      <td>0.0</td>\n",
       "    </tr>\n",
       "    <tr>\n",
       "      <th>11</th>\n",
       "      <td>1 year ago (edited)</td>\n",
       "      <td>Damn good explanation ️ i have a Tiago AMT pet...</td>\n",
       "      <td>12</td>\n",
       "      <td>Know More Know Less</td>\n",
       "      <td>0.0</td>\n",
       "    </tr>\n",
       "    <tr>\n",
       "      <th>12</th>\n",
       "      <td>1 year ago</td>\n",
       "      <td>Nice explanation as always, but I believe that...</td>\n",
       "      <td>4</td>\n",
       "      <td>The Modding Prodigy</td>\n",
       "      <td>0.0</td>\n",
       "    </tr>\n",
       "    <tr>\n",
       "      <th>13</th>\n",
       "      <td>1 year ago (edited)</td>\n",
       "      <td>Nothing ever can beat the reliability of manua...</td>\n",
       "      <td>40</td>\n",
       "      <td>Kris Daniel</td>\n",
       "      <td>0.0</td>\n",
       "    </tr>\n",
       "    <tr>\n",
       "      <th>14</th>\n",
       "      <td>1 year ago</td>\n",
       "      <td>Well explained. I think  manual transmission a...</td>\n",
       "      <td>2</td>\n",
       "      <td>Gautam Sanyal</td>\n",
       "      <td>0.0</td>\n",
       "    </tr>\n",
       "    <tr>\n",
       "      <th>15</th>\n",
       "      <td>2 years ago (edited)</td>\n",
       "      <td>I think best is AMT for new drivers and old ci...</td>\n",
       "      <td>5</td>\n",
       "      <td>Apoorv Agrawal</td>\n",
       "      <td>0.0</td>\n",
       "    </tr>\n",
       "    <tr>\n",
       "      <th>16</th>\n",
       "      <td>1 year ago</td>\n",
       "      <td>Excellent and informative videos. Can you comp...</td>\n",
       "      <td>2</td>\n",
       "      <td>Abhijit Acharekar</td>\n",
       "      <td>0.0</td>\n",
       "    </tr>\n",
       "  </tbody>\n",
       "</table>\n",
       "</div>"
      ],
      "text/plain": [
       "                    Date                                            Comment  \\\n",
       "0   2 years ago (edited)  Planning to buy a new car & need guidance on w...   \n",
       "1             1 year ago  no one would be able to explain all these tran...   \n",
       "2          10 months ago  I find IMT more interesting bcos you don't hav...   \n",
       "3             1 year ago  This was very helpful! You can also add timest...   \n",
       "4            2 years ago  Wow!!! I am damn sure no one could have explai...   \n",
       "5            1 month ago  Automatic is just like a remote car, where you...   \n",
       "6            2 years ago  Nice comparison ! Would like to see a video on...   \n",
       "7             1 year ago  You explained literally everything we need and...   \n",
       "8             1 year ago  IMT seems pretty decent. No clutch plus u get ...   \n",
       "9             2 days ago  Felt like I was talking face to face with a pr...   \n",
       "10          6 months ago  IMO, AMT and AT are best, especially for those...   \n",
       "11   1 year ago (edited)  Damn good explanation ️ i have a Tiago AMT pet...   \n",
       "12            1 year ago  Nice explanation as always, but I believe that...   \n",
       "13   1 year ago (edited)  Nothing ever can beat the reliability of manua...   \n",
       "14            1 year ago  Well explained. I think  manual transmission a...   \n",
       "15  2 years ago (edited)  I think best is AMT for new drivers and old ci...   \n",
       "16            1 year ago  Excellent and informative videos. Can you comp...   \n",
       "\n",
       "    Likes            User Name  Reply Count  \n",
       "0     291          MotorOctane         62.0  \n",
       "1    1500     rasikraj jangale          0.0  \n",
       "2      71       Sufiyan Sheikh          0.0  \n",
       "3      99         Vasu Agarwal          0.0  \n",
       "4      17      Chiranjeet Giri          0.0  \n",
       "5       1   Abddul Rahman 1857          0.0  \n",
       "6       8          Alankar Das          0.0  \n",
       "7      34      Rahul Bicholkar          0.0  \n",
       "8      46      Shut da hell up          0.0  \n",
       "9       0     Kash Yeptho55555          0.0  \n",
       "10     12       Ayushman Kumar          0.0  \n",
       "11     12  Know More Know Less          0.0  \n",
       "12      4  The Modding Prodigy          0.0  \n",
       "13     40          Kris Daniel          0.0  \n",
       "14      2        Gautam Sanyal          0.0  \n",
       "15      5       Apoorv Agrawal          0.0  \n",
       "16      2    Abhijit Acharekar          0.0  "
      ]
     },
     "execution_count": 103,
     "metadata": {},
     "output_type": "execute_result"
    }
   ],
   "source": [
    "data1.head(17)"
   ]
  },
  {
   "cell_type": "code",
   "execution_count": 6,
   "id": "c7c25cda",
   "metadata": {},
   "outputs": [
    {
     "data": {
      "text/plain": [
       "Date           0\n",
       "Comment        0\n",
       "Likes          0\n",
       "User Name      0\n",
       "Reply Count    0\n",
       "dtype: int64"
      ]
     },
     "execution_count": 6,
     "metadata": {},
     "output_type": "execute_result"
    }
   ],
   "source": [
    "data1['Comment'] = data1['Comment'].fillna('na')\n",
    "data1['Reply Count'] = data1['Reply Count'].fillna(0)\n",
    "data1.isna().sum()"
   ]
  },
  {
   "cell_type": "code",
   "execution_count": 7,
   "id": "f0910797",
   "metadata": {},
   "outputs": [
    {
     "data": {
      "text/plain": [
       "(1188, 5)"
      ]
     },
     "execution_count": 7,
     "metadata": {},
     "output_type": "execute_result"
    }
   ],
   "source": [
    "data1.shape"
   ]
  },
  {
   "cell_type": "code",
   "execution_count": 8,
   "id": "745e24af",
   "metadata": {
    "scrolled": true
   },
   "outputs": [
    {
     "data": {
      "text/plain": [
       "Date            object\n",
       "Comment         object\n",
       "Likes            int64\n",
       "User Name       object\n",
       "Reply Count    float64\n",
       "dtype: object"
      ]
     },
     "execution_count": 8,
     "metadata": {},
     "output_type": "execute_result"
    }
   ],
   "source": [
    "data1.dtypes"
   ]
  },
  {
   "cell_type": "code",
   "execution_count": 11,
   "id": "ffd0c193",
   "metadata": {},
   "outputs": [
    {
     "data": {
      "text/html": [
       "<div>\n",
       "<style scoped>\n",
       "    .dataframe tbody tr th:only-of-type {\n",
       "        vertical-align: middle;\n",
       "    }\n",
       "\n",
       "    .dataframe tbody tr th {\n",
       "        vertical-align: top;\n",
       "    }\n",
       "\n",
       "    .dataframe thead th {\n",
       "        text-align: right;\n",
       "    }\n",
       "</style>\n",
       "<table border=\"1\" class=\"dataframe\">\n",
       "  <thead>\n",
       "    <tr style=\"text-align: right;\">\n",
       "      <th></th>\n",
       "      <th>Date</th>\n",
       "      <th>Comment</th>\n",
       "      <th>Likes</th>\n",
       "      <th>User Name</th>\n",
       "      <th>Reply Count</th>\n",
       "    </tr>\n",
       "  </thead>\n",
       "  <tbody>\n",
       "    <tr>\n",
       "      <th>0</th>\n",
       "      <td>2 years ago (edited)</td>\n",
       "      <td>Planning to buy a new car &amp; need guidance on w...</td>\n",
       "      <td>291</td>\n",
       "      <td>MotorOctane</td>\n",
       "      <td>62.0</td>\n",
       "    </tr>\n",
       "    <tr>\n",
       "      <th>1</th>\n",
       "      <td>1 year ago</td>\n",
       "      <td>no one would be able to explain all these tran...</td>\n",
       "      <td>1500</td>\n",
       "      <td>rasikraj jangale</td>\n",
       "      <td>0.0</td>\n",
       "    </tr>\n",
       "    <tr>\n",
       "      <th>2</th>\n",
       "      <td>10 months ago</td>\n",
       "      <td>I find IMT more interesting bcos you don't hav...</td>\n",
       "      <td>71</td>\n",
       "      <td>Sufiyan Sheikh</td>\n",
       "      <td>0.0</td>\n",
       "    </tr>\n",
       "    <tr>\n",
       "      <th>3</th>\n",
       "      <td>1 year ago</td>\n",
       "      <td>This was very helpful! You can also add timest...</td>\n",
       "      <td>99</td>\n",
       "      <td>Vasu Agarwal</td>\n",
       "      <td>0.0</td>\n",
       "    </tr>\n",
       "    <tr>\n",
       "      <th>4</th>\n",
       "      <td>2 years ago</td>\n",
       "      <td>Wow!!! I am damn sure no one could have explai...</td>\n",
       "      <td>17</td>\n",
       "      <td>Chiranjeet Giri</td>\n",
       "      <td>0.0</td>\n",
       "    </tr>\n",
       "  </tbody>\n",
       "</table>\n",
       "</div>"
      ],
      "text/plain": [
       "                   Date                                            Comment  \\\n",
       "0  2 years ago (edited)  Planning to buy a new car & need guidance on w...   \n",
       "1            1 year ago  no one would be able to explain all these tran...   \n",
       "2         10 months ago  I find IMT more interesting bcos you don't hav...   \n",
       "3            1 year ago  This was very helpful! You can also add timest...   \n",
       "4           2 years ago  Wow!!! I am damn sure no one could have explai...   \n",
       "\n",
       "   Likes         User Name  Reply Count  \n",
       "0    291       MotorOctane         62.0  \n",
       "1   1500  rasikraj jangale          0.0  \n",
       "2     71    Sufiyan Sheikh          0.0  \n",
       "3     99      Vasu Agarwal          0.0  \n",
       "4     17   Chiranjeet Giri          0.0  "
      ]
     },
     "execution_count": 11,
     "metadata": {},
     "output_type": "execute_result"
    }
   ],
   "source": [
    "data1['Reply Count'].round(1)\n",
    "data1.head()"
   ]
  },
  {
   "cell_type": "markdown",
   "id": "27a64090",
   "metadata": {},
   "source": [
    "# 4. Data Pre-Processing"
   ]
  },
  {
   "cell_type": "markdown",
   "id": "981d43b2",
   "metadata": {},
   "source": [
    "## 4.1 Converting to Lower Case "
   ]
  },
  {
   "cell_type": "code",
   "execution_count": 12,
   "id": "90edbc25",
   "metadata": {},
   "outputs": [
    {
     "data": {
      "text/plain": [
       "0    planning to buy a new car & need guidance on w...\n",
       "1    no one would be able to explain all these tran...\n",
       "2    i find imt more interesting bcos you don't hav...\n",
       "3    this was very helpful! you can also add timest...\n",
       "4    wow!!! i am damn sure no one could have explai...\n",
       "Name: Comment, dtype: object"
      ]
     },
     "execution_count": 12,
     "metadata": {},
     "output_type": "execute_result"
    }
   ],
   "source": [
    "data1['Comment'] = data1['Comment'].apply(lambda x: \" \".join(x.lower() for x in x.split()))\n",
    "data1['Comment'].head()"
   ]
  },
  {
   "cell_type": "markdown",
   "id": "59785263",
   "metadata": {},
   "source": [
    "## 4.2 Removing Punctuations"
   ]
  },
  {
   "cell_type": "code",
   "execution_count": 13,
   "id": "caabad27",
   "metadata": {},
   "outputs": [
    {
     "data": {
      "text/html": [
       "<div>\n",
       "<style scoped>\n",
       "    .dataframe tbody tr th:only-of-type {\n",
       "        vertical-align: middle;\n",
       "    }\n",
       "\n",
       "    .dataframe tbody tr th {\n",
       "        vertical-align: top;\n",
       "    }\n",
       "\n",
       "    .dataframe thead th {\n",
       "        text-align: right;\n",
       "    }\n",
       "</style>\n",
       "<table border=\"1\" class=\"dataframe\">\n",
       "  <thead>\n",
       "    <tr style=\"text-align: right;\">\n",
       "      <th></th>\n",
       "      <th>Comment</th>\n",
       "      <th>hastags</th>\n",
       "    </tr>\n",
       "  </thead>\n",
       "  <tbody>\n",
       "    <tr>\n",
       "      <th>0</th>\n",
       "      <td>planning to buy a new car &amp; need guidance on w...</td>\n",
       "      <td>0</td>\n",
       "    </tr>\n",
       "    <tr>\n",
       "      <th>1</th>\n",
       "      <td>no one would be able to explain all these tran...</td>\n",
       "      <td>0</td>\n",
       "    </tr>\n",
       "    <tr>\n",
       "      <th>2</th>\n",
       "      <td>i find imt more interesting bcos you don't hav...</td>\n",
       "      <td>0</td>\n",
       "    </tr>\n",
       "    <tr>\n",
       "      <th>3</th>\n",
       "      <td>this was very helpful! you can also add timest...</td>\n",
       "      <td>0</td>\n",
       "    </tr>\n",
       "    <tr>\n",
       "      <th>4</th>\n",
       "      <td>wow!!! i am damn sure no one could have explai...</td>\n",
       "      <td>0</td>\n",
       "    </tr>\n",
       "  </tbody>\n",
       "</table>\n",
       "</div>"
      ],
      "text/plain": [
       "                                             Comment  hastags\n",
       "0  planning to buy a new car & need guidance on w...        0\n",
       "1  no one would be able to explain all these tran...        0\n",
       "2  i find imt more interesting bcos you don't hav...        0\n",
       "3  this was very helpful! you can also add timest...        0\n",
       "4  wow!!! i am damn sure no one could have explai...        0"
      ]
     },
     "execution_count": 13,
     "metadata": {},
     "output_type": "execute_result"
    }
   ],
   "source": [
    "data1['hastags'] = data1['Comment'].apply(lambda x: len([x for x in x.split() if x.startswith('@')]))\n",
    "data1[['Comment','hastags']].head()"
   ]
  },
  {
   "cell_type": "code",
   "execution_count": 14,
   "id": "72a7842b",
   "metadata": {},
   "outputs": [
    {
     "data": {
      "text/plain": [
       "0    1187\n",
       "1       1\n",
       "Name: hastags, dtype: int64"
      ]
     },
     "execution_count": 14,
     "metadata": {},
     "output_type": "execute_result"
    }
   ],
   "source": [
    "data1['hastags'].value_counts()"
   ]
  },
  {
   "cell_type": "code",
   "execution_count": 15,
   "id": "ea56b5ac",
   "metadata": {},
   "outputs": [
    {
     "data": {
      "text/plain": [
       "0    planning to buy a new car  need guidance on wh...\n",
       "1    no one would be able to explain all these tran...\n",
       "2    i find imt more interesting bcos you dont have...\n",
       "3    this was very helpful you can also add timesta...\n",
       "4    wow i am damn sure no one could have explained...\n",
       "Name: Comment, dtype: object"
      ]
     },
     "execution_count": 15,
     "metadata": {},
     "output_type": "execute_result"
    }
   ],
   "source": [
    "data1['Comment'] = data1['Comment'].str.replace('[^\\w\\s]','')\n",
    "data1['Comment'].head()"
   ]
  },
  {
   "cell_type": "markdown",
   "id": "60472220",
   "metadata": {},
   "source": [
    "## 4.3 Removing Stop words"
   ]
  },
  {
   "cell_type": "code",
   "execution_count": 16,
   "id": "fb359959",
   "metadata": {},
   "outputs": [
    {
     "data": {
      "text/html": [
       "<div>\n",
       "<style scoped>\n",
       "    .dataframe tbody tr th:only-of-type {\n",
       "        vertical-align: middle;\n",
       "    }\n",
       "\n",
       "    .dataframe tbody tr th {\n",
       "        vertical-align: top;\n",
       "    }\n",
       "\n",
       "    .dataframe thead th {\n",
       "        text-align: right;\n",
       "    }\n",
       "</style>\n",
       "<table border=\"1\" class=\"dataframe\">\n",
       "  <thead>\n",
       "    <tr style=\"text-align: right;\">\n",
       "      <th></th>\n",
       "      <th>Comment</th>\n",
       "      <th>stopwords</th>\n",
       "    </tr>\n",
       "  </thead>\n",
       "  <tbody>\n",
       "    <tr>\n",
       "      <th>0</th>\n",
       "      <td>planning to buy a new car  need guidance on wh...</td>\n",
       "      <td>8</td>\n",
       "    </tr>\n",
       "    <tr>\n",
       "      <th>1</th>\n",
       "      <td>no one would be able to explain all these tran...</td>\n",
       "      <td>7</td>\n",
       "    </tr>\n",
       "    <tr>\n",
       "      <th>2</th>\n",
       "      <td>i find imt more interesting bcos you dont have...</td>\n",
       "      <td>18</td>\n",
       "    </tr>\n",
       "    <tr>\n",
       "      <th>3</th>\n",
       "      <td>this was very helpful you can also add timesta...</td>\n",
       "      <td>11</td>\n",
       "    </tr>\n",
       "    <tr>\n",
       "      <th>4</th>\n",
       "      <td>wow i am damn sure no one could have explained...</td>\n",
       "      <td>20</td>\n",
       "    </tr>\n",
       "  </tbody>\n",
       "</table>\n",
       "</div>"
      ],
      "text/plain": [
       "                                             Comment  stopwords\n",
       "0  planning to buy a new car  need guidance on wh...          8\n",
       "1  no one would be able to explain all these tran...          7\n",
       "2  i find imt more interesting bcos you dont have...         18\n",
       "3  this was very helpful you can also add timesta...         11\n",
       "4  wow i am damn sure no one could have explained...         20"
      ]
     },
     "execution_count": 16,
     "metadata": {},
     "output_type": "execute_result"
    }
   ],
   "source": [
    "stop = stopwords.words('english')\n",
    "\n",
    "data1['stopwords'] = data1['Comment'].apply(lambda x: len([x for x in x.split() if x in stop]))\n",
    "data1[['Comment','stopwords']].head()"
   ]
  },
  {
   "cell_type": "code",
   "execution_count": 17,
   "id": "243ddbf7",
   "metadata": {},
   "outputs": [
    {
     "data": {
      "text/plain": [
       "0    planning buy new car need guidance buy connect...\n",
       "1    one would able explain transmissions easier la...\n",
       "2    find imt interesting bcos dont deal irritating...\n",
       "3    helpful also add timestamps itll make easier n...\n",
       "4    wow damn sure one could explained us great box...\n",
       "Name: Comment, dtype: object"
      ]
     },
     "execution_count": 17,
     "metadata": {},
     "output_type": "execute_result"
    }
   ],
   "source": [
    "stop = stopwords.words('english')\n",
    "data1['Comment'] = data1['Comment'].apply(lambda x: \" \".join(x for x in x.split() if x not in stop))\n",
    "data1['Comment'].head()"
   ]
  },
  {
   "cell_type": "markdown",
   "id": "367c0a77",
   "metadata": {},
   "source": [
    "## 4.4 Spelling Correction"
   ]
  },
  {
   "cell_type": "code",
   "execution_count": 18,
   "id": "ea336f64",
   "metadata": {},
   "outputs": [
    {
     "data": {
      "text/plain": [
       "0    planning buy new car need guidance buy connect...\n",
       "1    one would able explain transmission easier lan...\n",
       "2    find it interesting cos dont deal irritating c...\n",
       "3    helpful also add timestamps till make easier n...\n",
       "4    now damn sure one could explained us great box...\n",
       "Name: Comment, dtype: object"
      ]
     },
     "execution_count": 18,
     "metadata": {},
     "output_type": "execute_result"
    }
   ],
   "source": [
    "data1['Comment'][:5].apply(lambda x: str(TextBlob(x).correct()))"
   ]
  },
  {
   "cell_type": "code",
   "execution_count": 19,
   "id": "f2bd74a4",
   "metadata": {},
   "outputs": [
    {
     "name": "stderr",
     "output_type": "stream",
     "text": [
      "[nltk_data] Downloading package stopwords to\n",
      "[nltk_data]     C:\\Users\\joins\\AppData\\Roaming\\nltk_data...\n",
      "[nltk_data]   Package stopwords is already up-to-date!\n",
      "[nltk_data] Downloading package wordnet to\n",
      "[nltk_data]     C:\\Users\\joins\\AppData\\Roaming\\nltk_data...\n",
      "[nltk_data]   Package wordnet is already up-to-date!\n",
      "[nltk_data] Error loading : Package '' not found in index\n",
      "[nltk_data] Downloading package punkt to\n",
      "[nltk_data]     C:\\Users\\joins\\AppData\\Roaming\\nltk_data...\n",
      "[nltk_data]   Package punkt is already up-to-date!\n"
     ]
    },
    {
     "data": {
      "text/plain": [
       "True"
      ]
     },
     "execution_count": 19,
     "metadata": {},
     "output_type": "execute_result"
    }
   ],
   "source": [
    "import nltk\n",
    "nltk.download('stopwords')\n",
    "nltk.download('wordnet')\n",
    "nltk.download('')\n",
    "nltk.download('punkt')"
   ]
  },
  {
   "cell_type": "markdown",
   "id": "b01eb61c",
   "metadata": {},
   "source": [
    "## 4.5 Tokenization"
   ]
  },
  {
   "cell_type": "code",
   "execution_count": 20,
   "id": "b2227efb",
   "metadata": {},
   "outputs": [
    {
     "data": {
      "text/plain": [
       "0    [planning, buy, new, car, need, guidance, buy,...\n",
       "1    [one, would, able, explain, transmissions, eas...\n",
       "2    [find, imt, interesting, bcos, dont, deal, irr...\n",
       "3    [helpful, also, add, timestamps, itll, make, e...\n",
       "4    [wow, damn, sure, one, could, explained, us, g...\n",
       "Name: Comment, dtype: object"
      ]
     },
     "execution_count": 20,
     "metadata": {},
     "output_type": "execute_result"
    }
   ],
   "source": [
    "tokenized_comment = data1['Comment'].apply(lambda x: x.split())\n",
    "tokenized_comment.head()"
   ]
  },
  {
   "cell_type": "markdown",
   "id": "d2d156a8",
   "metadata": {},
   "source": [
    "## 4.6 Stemming"
   ]
  },
  {
   "cell_type": "code",
   "execution_count": 21,
   "id": "5bf3d2f8",
   "metadata": {},
   "outputs": [
    {
     "data": {
      "text/plain": [
       "0    plan buy new car need guidanc buy connect us h...\n",
       "1    one would abl explain transmiss easier languag...\n",
       "2    find imt interest bco dont deal irrit clutch e...\n",
       "3    help also add timestamp itll make easier navig...\n",
       "4    wow damn sure one could explain us great box w...\n",
       "Name: Comment, dtype: object"
      ]
     },
     "execution_count": 21,
     "metadata": {},
     "output_type": "execute_result"
    }
   ],
   "source": [
    "from nltk.stem import PorterStemmer\n",
    "st = PorterStemmer()\n",
    "data1['Comment'][:5].apply(lambda x: \" \".join([st.stem(word) for word in x.split()]))"
   ]
  },
  {
   "cell_type": "markdown",
   "id": "9ffb9f39",
   "metadata": {},
   "source": [
    "## 4.7 Lemmatization"
   ]
  },
  {
   "cell_type": "code",
   "execution_count": 22,
   "id": "00bb526d",
   "metadata": {},
   "outputs": [],
   "source": [
    "from textblob import Word"
   ]
  },
  {
   "cell_type": "code",
   "execution_count": 23,
   "id": "e96e3954",
   "metadata": {},
   "outputs": [
    {
     "data": {
      "text/plain": [
       "0    planning buy new car need guidance buy connect...\n",
       "1    one would able explain transmission easier lan...\n",
       "2    find imt interesting bcos dont deal irritating...\n",
       "3    helpful also add timestamps itll make easier n...\n",
       "4    wow damn sure one could explained u great box ...\n",
       "Name: Comment, dtype: object"
      ]
     },
     "execution_count": 23,
     "metadata": {},
     "output_type": "execute_result"
    }
   ],
   "source": [
    "data1['Comment'] = data1['Comment'].apply(lambda x: \" \".join([Word(word).lemmatize() for word in x.split()]))\n",
    "data1['Comment'].head()"
   ]
  },
  {
   "cell_type": "markdown",
   "id": "d14cb052",
   "metadata": {},
   "source": [
    "# 5.Comment Analysis"
   ]
  },
  {
   "cell_type": "markdown",
   "id": "c7a6cf63",
   "metadata": {},
   "source": [
    "## 5.1 Word Count"
   ]
  },
  {
   "cell_type": "code",
   "execution_count": 24,
   "id": "e6ac8e1e",
   "metadata": {},
   "outputs": [
    {
     "data": {
      "text/html": [
       "<div>\n",
       "<style scoped>\n",
       "    .dataframe tbody tr th:only-of-type {\n",
       "        vertical-align: middle;\n",
       "    }\n",
       "\n",
       "    .dataframe tbody tr th {\n",
       "        vertical-align: top;\n",
       "    }\n",
       "\n",
       "    .dataframe thead th {\n",
       "        text-align: right;\n",
       "    }\n",
       "</style>\n",
       "<table border=\"1\" class=\"dataframe\">\n",
       "  <thead>\n",
       "    <tr style=\"text-align: right;\">\n",
       "      <th></th>\n",
       "      <th>Comment</th>\n",
       "      <th>word_count</th>\n",
       "    </tr>\n",
       "  </thead>\n",
       "  <tbody>\n",
       "    <tr>\n",
       "      <th>0</th>\n",
       "      <td>planning buy new car need guidance buy connect...</td>\n",
       "      <td>17</td>\n",
       "    </tr>\n",
       "    <tr>\n",
       "      <th>1</th>\n",
       "      <td>one would able explain transmission easier lan...</td>\n",
       "      <td>10</td>\n",
       "    </tr>\n",
       "    <tr>\n",
       "      <th>2</th>\n",
       "      <td>find imt interesting bcos dont deal irritating...</td>\n",
       "      <td>18</td>\n",
       "    </tr>\n",
       "    <tr>\n",
       "      <th>3</th>\n",
       "      <td>helpful also add timestamps itll make easier n...</td>\n",
       "      <td>14</td>\n",
       "    </tr>\n",
       "    <tr>\n",
       "      <th>4</th>\n",
       "      <td>wow damn sure one could explained u great box ...</td>\n",
       "      <td>26</td>\n",
       "    </tr>\n",
       "  </tbody>\n",
       "</table>\n",
       "</div>"
      ],
      "text/plain": [
       "                                             Comment  word_count\n",
       "0  planning buy new car need guidance buy connect...          17\n",
       "1  one would able explain transmission easier lan...          10\n",
       "2  find imt interesting bcos dont deal irritating...          18\n",
       "3  helpful also add timestamps itll make easier n...          14\n",
       "4  wow damn sure one could explained u great box ...          26"
      ]
     },
     "execution_count": 24,
     "metadata": {},
     "output_type": "execute_result"
    }
   ],
   "source": [
    "data1['word_count'] = data1['Comment'].apply(lambda x: len(str(x).split(\" \")))\n",
    "data1[['Comment','word_count']].head()"
   ]
  },
  {
   "cell_type": "code",
   "execution_count": 25,
   "id": "06f9df8e",
   "metadata": {},
   "outputs": [
    {
     "name": "stdout",
     "output_type": "stream",
     "text": [
      "Maximum word in the comments are: \n",
      "156\n",
      "Minimum words in the comments are: \n",
      "1\n"
     ]
    }
   ],
   "source": [
    "maxclm = data1.max()['word_count']\n",
    "print(\"Maximum word in the comments are: \")\n",
    "print(maxclm)\n",
    "\n",
    "minclm = data1.min()['word_count']\n",
    "print('Minimum words in the comments are: ')\n",
    "print(minclm)"
   ]
  },
  {
   "cell_type": "code",
   "execution_count": 26,
   "id": "6efa241b",
   "metadata": {},
   "outputs": [
    {
     "data": {
      "image/png": "[encoded data removed]",
      "text/plain": [
       "<Figure size 1440x1296 with 1 Axes>"
      ]
     },
     "metadata": {
      "needs_background": "light"
     },
     "output_type": "display_data"
    }
   ],
   "source": [
    "plt.figure(figsize=(20,18))\n",
    "sns.countplot( x='word_count', y=None, data = data1,)\n",
    "plt.title('Number of words in comment')\n",
    "plt.show()"
   ]
  },
  {
   "cell_type": "markdown",
   "id": "2c0fb0ac",
   "metadata": {},
   "source": [
    "## 5.2 Reply Count"
   ]
  },
  {
   "cell_type": "code",
   "execution_count": 27,
   "id": "4faddffe",
   "metadata": {},
   "outputs": [
    {
     "name": "stdout",
     "output_type": "stream",
     "text": [
      "Maximum reply for a comment is: \n",
      "62.0\n"
     ]
    }
   ],
   "source": [
    "maxreply = data1.max()['Reply Count']\n",
    "print(\"Maximum reply for a comment is: \")\n",
    "print(maxreply)"
   ]
  },
  {
   "cell_type": "code",
   "execution_count": 28,
   "id": "8973bfa7",
   "metadata": {},
   "outputs": [
    {
     "data": {
      "text/html": [
       "<div>\n",
       "<style scoped>\n",
       "    .dataframe tbody tr th:only-of-type {\n",
       "        vertical-align: middle;\n",
       "    }\n",
       "\n",
       "    .dataframe tbody tr th {\n",
       "        vertical-align: top;\n",
       "    }\n",
       "\n",
       "    .dataframe thead th {\n",
       "        text-align: right;\n",
       "    }\n",
       "</style>\n",
       "<table border=\"1\" class=\"dataframe\">\n",
       "  <thead>\n",
       "    <tr style=\"text-align: right;\">\n",
       "      <th></th>\n",
       "      <th>Date</th>\n",
       "      <th>Comment</th>\n",
       "      <th>Likes</th>\n",
       "      <th>User Name</th>\n",
       "      <th>Reply Count</th>\n",
       "      <th>hastags</th>\n",
       "      <th>stopwords</th>\n",
       "      <th>word_count</th>\n",
       "    </tr>\n",
       "  </thead>\n",
       "  <tbody>\n",
       "    <tr>\n",
       "      <th>0</th>\n",
       "      <td>2 years ago (edited)</td>\n",
       "      <td>planning buy new car need guidance buy connect...</td>\n",
       "      <td>291</td>\n",
       "      <td>MotorOctane</td>\n",
       "      <td>62.0</td>\n",
       "      <td>0</td>\n",
       "      <td>8</td>\n",
       "      <td>17</td>\n",
       "    </tr>\n",
       "    <tr>\n",
       "      <th>655</th>\n",
       "      <td>1 year ago</td>\n",
       "      <td>think cvt best</td>\n",
       "      <td>0</td>\n",
       "      <td>lakshay Vats</td>\n",
       "      <td>19.0</td>\n",
       "      <td>0</td>\n",
       "      <td>2</td>\n",
       "      <td>3</td>\n",
       "    </tr>\n",
       "  </tbody>\n",
       "</table>\n",
       "</div>"
      ],
      "text/plain": [
       "                     Date                                            Comment  \\\n",
       "0    2 years ago (edited)  planning buy new car need guidance buy connect...   \n",
       "655            1 year ago                                     think cvt best   \n",
       "\n",
       "     Likes     User Name  Reply Count  hastags  stopwords  word_count  \n",
       "0      291   MotorOctane         62.0        0          8          17  \n",
       "655      0  lakshay Vats         19.0        0          2           3  "
      ]
     },
     "execution_count": 28,
     "metadata": {},
     "output_type": "execute_result"
    }
   ],
   "source": [
    "maxreply3 = data1.nlargest(2,['Reply Count'])\n",
    "maxreply3"
   ]
  },
  {
   "cell_type": "code",
   "execution_count": 29,
   "id": "6fb025a4",
   "metadata": {},
   "outputs": [
    {
     "data": {
      "text/plain": [
       "0.0     1110\n",
       "1.0       51\n",
       "2.0       14\n",
       "3.0        3\n",
       "5.0        3\n",
       "62.0       1\n",
       "8.0        1\n",
       "19.0       1\n",
       "14.0       1\n",
       "6.0        1\n",
       "9.0        1\n",
       "4.0        1\n",
       "Name: Reply Count, dtype: int64"
      ]
     },
     "execution_count": 29,
     "metadata": {},
     "output_type": "execute_result"
    }
   ],
   "source": [
    "data1['Reply Count'].value_counts()"
   ]
  },
  {
   "cell_type": "code",
   "execution_count": 30,
   "id": "3c8aeb6a",
   "metadata": {},
   "outputs": [
    {
     "data": {
      "image/png": "[encoded data removed]",
      "text/plain": [
       "<Figure size 1440x1296 with 1 Axes>"
      ]
     },
     "metadata": {
      "needs_background": "light"
     },
     "output_type": "display_data"
    }
   ],
   "source": [
    "plt.figure(figsize=(20,18))\n",
    "sns.countplot(x=None, y='Reply Count', data = data1)\n",
    "plt.title('Number of Replies on the comments')\n",
    "plt.show()"
   ]
  },
  {
   "cell_type": "markdown",
   "id": "98660279",
   "metadata": {},
   "source": [
    "## 5.3 Likes Analysis"
   ]
  },
  {
   "cell_type": "code",
   "execution_count": 31,
   "id": "8c65ef8d",
   "metadata": {},
   "outputs": [
    {
     "name": "stdout",
     "output_type": "stream",
     "text": [
      "Maximum number of likes on a comment: \n",
      "1500\n"
     ]
    }
   ],
   "source": [
    "maxlikes = data1.max()['Likes']\n",
    "print('Maximum number of likes on a comment: ')\n",
    "print(maxlikes)"
   ]
  },
  {
   "cell_type": "code",
   "execution_count": 32,
   "id": "76dd7bbf",
   "metadata": {},
   "outputs": [
    {
     "data": {
      "text/html": [
       "<div>\n",
       "<style scoped>\n",
       "    .dataframe tbody tr th:only-of-type {\n",
       "        vertical-align: middle;\n",
       "    }\n",
       "\n",
       "    .dataframe tbody tr th {\n",
       "        vertical-align: top;\n",
       "    }\n",
       "\n",
       "    .dataframe thead th {\n",
       "        text-align: right;\n",
       "    }\n",
       "</style>\n",
       "<table border=\"1\" class=\"dataframe\">\n",
       "  <thead>\n",
       "    <tr style=\"text-align: right;\">\n",
       "      <th></th>\n",
       "      <th>Date</th>\n",
       "      <th>Comment</th>\n",
       "      <th>Likes</th>\n",
       "      <th>User Name</th>\n",
       "      <th>Reply Count</th>\n",
       "      <th>hastags</th>\n",
       "      <th>stopwords</th>\n",
       "      <th>word_count</th>\n",
       "    </tr>\n",
       "  </thead>\n",
       "  <tbody>\n",
       "    <tr>\n",
       "      <th>1</th>\n",
       "      <td>1 year ago</td>\n",
       "      <td>one would able explain transmission easier lan...</td>\n",
       "      <td>1500</td>\n",
       "      <td>rasikraj jangale</td>\n",
       "      <td>0.0</td>\n",
       "      <td>0</td>\n",
       "      <td>7</td>\n",
       "      <td>10</td>\n",
       "    </tr>\n",
       "  </tbody>\n",
       "</table>\n",
       "</div>"
      ],
      "text/plain": [
       "         Date                                            Comment  Likes  \\\n",
       "1  1 year ago  one would able explain transmission easier lan...   1500   \n",
       "\n",
       "          User Name  Reply Count  hastags  stopwords  word_count  \n",
       "1  rasikraj jangale          0.0        0          7          10  "
      ]
     },
     "execution_count": 32,
     "metadata": {},
     "output_type": "execute_result"
    }
   ],
   "source": [
    "maxreply2 = data1.query('Likes == Likes.max()')\n",
    "maxreply2"
   ]
  },
  {
   "cell_type": "code",
   "execution_count": 33,
   "id": "7d3bfeda",
   "metadata": {},
   "outputs": [
    {
     "data": {
      "image/png": "[encoded data removed]",
      "text/plain": [
       "<Figure size 1440x1296 with 1 Axes>"
      ]
     },
     "metadata": {
      "needs_background": "light"
     },
     "output_type": "display_data"
    }
   ],
   "source": [
    "plt.figure(figsize=(20,18))\n",
    "sns.countplot(x='Likes', y=None, data = data1)\n",
    "plt.title('Number of Replies on the comments')\n",
    "plt.show()"
   ]
  },
  {
   "cell_type": "markdown",
   "id": "33f1948b",
   "metadata": {},
   "source": [
    "## 5.4 Most Common Word Used"
   ]
  },
  {
   "cell_type": "code",
   "execution_count": 34,
   "id": "b151143b",
   "metadata": {},
   "outputs": [
    {
     "data": {
      "text/html": [
       "<div>\n",
       "<style scoped>\n",
       "    .dataframe tbody tr th:only-of-type {\n",
       "        vertical-align: middle;\n",
       "    }\n",
       "\n",
       "    .dataframe tbody tr th {\n",
       "        vertical-align: top;\n",
       "    }\n",
       "\n",
       "    .dataframe thead th {\n",
       "        text-align: right;\n",
       "    }\n",
       "</style>\n",
       "<table border=\"1\" class=\"dataframe\">\n",
       "  <thead>\n",
       "    <tr style=\"text-align: right;\">\n",
       "      <th></th>\n",
       "      <th>words</th>\n",
       "      <th>Frequency</th>\n",
       "    </tr>\n",
       "  </thead>\n",
       "  <tbody>\n",
       "    <tr>\n",
       "      <th>0</th>\n",
       "      <td>manual</td>\n",
       "      <td>248</td>\n",
       "    </tr>\n",
       "    <tr>\n",
       "      <th>1</th>\n",
       "      <td>car</td>\n",
       "      <td>170</td>\n",
       "    </tr>\n",
       "    <tr>\n",
       "      <th>2</th>\n",
       "      <td>transmission</td>\n",
       "      <td>165</td>\n",
       "    </tr>\n",
       "    <tr>\n",
       "      <th>3</th>\n",
       "      <td>imt</td>\n",
       "      <td>154</td>\n",
       "    </tr>\n",
       "    <tr>\n",
       "      <th>4</th>\n",
       "      <td>video</td>\n",
       "      <td>149</td>\n",
       "    </tr>\n",
       "    <tr>\n",
       "      <th>5</th>\n",
       "      <td>best</td>\n",
       "      <td>130</td>\n",
       "    </tr>\n",
       "    <tr>\n",
       "      <th>6</th>\n",
       "      <td>automatic</td>\n",
       "      <td>129</td>\n",
       "    </tr>\n",
       "    <tr>\n",
       "      <th>7</th>\n",
       "      <td>good</td>\n",
       "      <td>109</td>\n",
       "    </tr>\n",
       "    <tr>\n",
       "      <th>8</th>\n",
       "      <td>gear</td>\n",
       "      <td>102</td>\n",
       "    </tr>\n",
       "    <tr>\n",
       "      <th>9</th>\n",
       "      <td>cvt</td>\n",
       "      <td>98</td>\n",
       "    </tr>\n",
       "  </tbody>\n",
       "</table>\n",
       "</div>"
      ],
      "text/plain": [
       "          words  Frequency\n",
       "0        manual        248\n",
       "1           car        170\n",
       "2  transmission        165\n",
       "3           imt        154\n",
       "4         video        149\n",
       "5          best        130\n",
       "6     automatic        129\n",
       "7          good        109\n",
       "8          gear        102\n",
       "9           cvt         98"
      ]
     },
     "execution_count": 34,
     "metadata": {},
     "output_type": "execute_result"
    }
   ],
   "source": [
    "freq = pd.Series(' '.join(data1['Comment']).split()).value_counts()[:10]\n",
    "freq = pd.DataFrame(data=freq)\n",
    "freq.columns =['Frequency']\n",
    "freq.reset_index(inplace = True)\n",
    "freq.rename(columns = {'index':'words'},inplace = True)\n",
    "freq"
   ]
  },
  {
   "cell_type": "code",
   "execution_count": 35,
   "id": "9fa60a81",
   "metadata": {},
   "outputs": [
    {
     "data": {
      "image/png": "[encoded data removed]",
      "text/plain": [
       "<Figure size 792x504 with 1 Axes>"
      ]
     },
     "metadata": {
      "needs_background": "light"
     },
     "output_type": "display_data"
    }
   ],
   "source": [
    "plt.figure(figsize=(11,7))\n",
    "sns.barplot(x='words',y='Frequency', data=freq)\n",
    "plt.title('Frequency count of common word')\n",
    "plt.show()"
   ]
  },
  {
   "cell_type": "code",
   "execution_count": 36,
   "id": "15a362e4",
   "metadata": {},
   "outputs": [],
   "source": [
    "import numpy as np"
   ]
  },
  {
   "cell_type": "markdown",
   "id": "7873b055",
   "metadata": {},
   "source": [
    "# 6. TF-IDF Analysis"
   ]
  },
  {
   "cell_type": "code",
   "execution_count": 37,
   "id": "e5673816",
   "metadata": {},
   "outputs": [
    {
     "data": {
      "text/html": [
       "<div>\n",
       "<style scoped>\n",
       "    .dataframe tbody tr th:only-of-type {\n",
       "        vertical-align: middle;\n",
       "    }\n",
       "\n",
       "    .dataframe tbody tr th {\n",
       "        vertical-align: top;\n",
       "    }\n",
       "\n",
       "    .dataframe thead th {\n",
       "        text-align: right;\n",
       "    }\n",
       "</style>\n",
       "<table border=\"1\" class=\"dataframe\">\n",
       "  <thead>\n",
       "    <tr style=\"text-align: right;\">\n",
       "      <th></th>\n",
       "      <th>words</th>\n",
       "      <th>tf</th>\n",
       "    </tr>\n",
       "  </thead>\n",
       "  <tbody>\n",
       "    <tr>\n",
       "      <th>0</th>\n",
       "      <td>one</td>\n",
       "      <td>1</td>\n",
       "    </tr>\n",
       "    <tr>\n",
       "      <th>1</th>\n",
       "      <td>would</td>\n",
       "      <td>1</td>\n",
       "    </tr>\n",
       "    <tr>\n",
       "      <th>2</th>\n",
       "      <td>able</td>\n",
       "      <td>1</td>\n",
       "    </tr>\n",
       "    <tr>\n",
       "      <th>3</th>\n",
       "      <td>explain</td>\n",
       "      <td>1</td>\n",
       "    </tr>\n",
       "    <tr>\n",
       "      <th>4</th>\n",
       "      <td>transmission</td>\n",
       "      <td>1</td>\n",
       "    </tr>\n",
       "    <tr>\n",
       "      <th>5</th>\n",
       "      <td>easier</td>\n",
       "      <td>1</td>\n",
       "    </tr>\n",
       "    <tr>\n",
       "      <th>6</th>\n",
       "      <td>language</td>\n",
       "      <td>1</td>\n",
       "    </tr>\n",
       "    <tr>\n",
       "      <th>7</th>\n",
       "      <td>thiswell</td>\n",
       "      <td>1</td>\n",
       "    </tr>\n",
       "    <tr>\n",
       "      <th>8</th>\n",
       "      <td>done</td>\n",
       "      <td>1</td>\n",
       "    </tr>\n",
       "    <tr>\n",
       "      <th>9</th>\n",
       "      <td>bro</td>\n",
       "      <td>1</td>\n",
       "    </tr>\n",
       "  </tbody>\n",
       "</table>\n",
       "</div>"
      ],
      "text/plain": [
       "          words  tf\n",
       "0           one   1\n",
       "1         would   1\n",
       "2          able   1\n",
       "3       explain   1\n",
       "4  transmission   1\n",
       "5        easier   1\n",
       "6      language   1\n",
       "7      thiswell   1\n",
       "8          done   1\n",
       "9           bro   1"
      ]
     },
     "execution_count": 37,
     "metadata": {},
     "output_type": "execute_result"
    }
   ],
   "source": [
    "tf1 = (data1['Comment'][1:2]).apply(lambda x: pd.value_counts(x.split(\" \"))).sum(axis = 0).reset_index()\n",
    "tf1.columns = ['words','tf']\n",
    "tf1"
   ]
  },
  {
   "cell_type": "code",
   "execution_count": 38,
   "id": "a24bf95e",
   "metadata": {},
   "outputs": [
    {
     "data": {
      "text/html": [
       "<div>\n",
       "<style scoped>\n",
       "    .dataframe tbody tr th:only-of-type {\n",
       "        vertical-align: middle;\n",
       "    }\n",
       "\n",
       "    .dataframe tbody tr th {\n",
       "        vertical-align: top;\n",
       "    }\n",
       "\n",
       "    .dataframe thead th {\n",
       "        text-align: right;\n",
       "    }\n",
       "</style>\n",
       "<table border=\"1\" class=\"dataframe\">\n",
       "  <thead>\n",
       "    <tr style=\"text-align: right;\">\n",
       "      <th></th>\n",
       "      <th>words</th>\n",
       "      <th>tf</th>\n",
       "      <th>idf</th>\n",
       "    </tr>\n",
       "  </thead>\n",
       "  <tbody>\n",
       "    <tr>\n",
       "      <th>0</th>\n",
       "      <td>one</td>\n",
       "      <td>1</td>\n",
       "      <td>2.558238</td>\n",
       "    </tr>\n",
       "    <tr>\n",
       "      <th>1</th>\n",
       "      <td>would</td>\n",
       "      <td>1</td>\n",
       "      <td>4.246813</td>\n",
       "    </tr>\n",
       "    <tr>\n",
       "      <th>2</th>\n",
       "      <td>able</td>\n",
       "      <td>1</td>\n",
       "      <td>3.168003</td>\n",
       "    </tr>\n",
       "    <tr>\n",
       "      <th>3</th>\n",
       "      <td>explain</td>\n",
       "      <td>1</td>\n",
       "      <td>2.397895</td>\n",
       "    </tr>\n",
       "    <tr>\n",
       "      <th>4</th>\n",
       "      <td>transmission</td>\n",
       "      <td>1</td>\n",
       "      <td>2.227996</td>\n",
       "    </tr>\n",
       "    <tr>\n",
       "      <th>5</th>\n",
       "      <td>easier</td>\n",
       "      <td>1</td>\n",
       "      <td>6.386879</td>\n",
       "    </tr>\n",
       "    <tr>\n",
       "      <th>6</th>\n",
       "      <td>language</td>\n",
       "      <td>1</td>\n",
       "      <td>4.440969</td>\n",
       "    </tr>\n",
       "    <tr>\n",
       "      <th>7</th>\n",
       "      <td>thiswell</td>\n",
       "      <td>1</td>\n",
       "      <td>7.080026</td>\n",
       "    </tr>\n",
       "    <tr>\n",
       "      <th>8</th>\n",
       "      <td>done</td>\n",
       "      <td>1</td>\n",
       "      <td>4.084294</td>\n",
       "    </tr>\n",
       "    <tr>\n",
       "      <th>9</th>\n",
       "      <td>bro</td>\n",
       "      <td>1</td>\n",
       "      <td>2.698000</td>\n",
       "    </tr>\n",
       "  </tbody>\n",
       "</table>\n",
       "</div>"
      ],
      "text/plain": [
       "          words  tf       idf\n",
       "0           one   1  2.558238\n",
       "1         would   1  4.246813\n",
       "2          able   1  3.168003\n",
       "3       explain   1  2.397895\n",
       "4  transmission   1  2.227996\n",
       "5        easier   1  6.386879\n",
       "6      language   1  4.440969\n",
       "7      thiswell   1  7.080026\n",
       "8          done   1  4.084294\n",
       "9           bro   1  2.698000"
      ]
     },
     "execution_count": 38,
     "metadata": {},
     "output_type": "execute_result"
    }
   ],
   "source": [
    "for i,word in enumerate(tf1['words']):\n",
    "  tf1.loc[i, 'idf'] = np.log(data1.shape[0]/(len(data1[data1['Comment'].str.contains(word)])))\n",
    "tf1"
   ]
  },
  {
   "cell_type": "code",
   "execution_count": 39,
   "id": "4404ee10",
   "metadata": {},
   "outputs": [
    {
     "data": {
      "text/html": [
       "<div>\n",
       "<style scoped>\n",
       "    .dataframe tbody tr th:only-of-type {\n",
       "        vertical-align: middle;\n",
       "    }\n",
       "\n",
       "    .dataframe tbody tr th {\n",
       "        vertical-align: top;\n",
       "    }\n",
       "\n",
       "    .dataframe thead th {\n",
       "        text-align: right;\n",
       "    }\n",
       "</style>\n",
       "<table border=\"1\" class=\"dataframe\">\n",
       "  <thead>\n",
       "    <tr style=\"text-align: right;\">\n",
       "      <th></th>\n",
       "      <th>words</th>\n",
       "      <th>tf</th>\n",
       "      <th>idf</th>\n",
       "      <th>tfidf</th>\n",
       "    </tr>\n",
       "  </thead>\n",
       "  <tbody>\n",
       "    <tr>\n",
       "      <th>0</th>\n",
       "      <td>one</td>\n",
       "      <td>1</td>\n",
       "      <td>2.558238</td>\n",
       "      <td>2.558238</td>\n",
       "    </tr>\n",
       "    <tr>\n",
       "      <th>1</th>\n",
       "      <td>would</td>\n",
       "      <td>1</td>\n",
       "      <td>4.246813</td>\n",
       "      <td>4.246813</td>\n",
       "    </tr>\n",
       "    <tr>\n",
       "      <th>2</th>\n",
       "      <td>able</td>\n",
       "      <td>1</td>\n",
       "      <td>3.168003</td>\n",
       "      <td>3.168003</td>\n",
       "    </tr>\n",
       "    <tr>\n",
       "      <th>3</th>\n",
       "      <td>explain</td>\n",
       "      <td>1</td>\n",
       "      <td>2.397895</td>\n",
       "      <td>2.397895</td>\n",
       "    </tr>\n",
       "    <tr>\n",
       "      <th>4</th>\n",
       "      <td>transmission</td>\n",
       "      <td>1</td>\n",
       "      <td>2.227996</td>\n",
       "      <td>2.227996</td>\n",
       "    </tr>\n",
       "    <tr>\n",
       "      <th>5</th>\n",
       "      <td>easier</td>\n",
       "      <td>1</td>\n",
       "      <td>6.386879</td>\n",
       "      <td>6.386879</td>\n",
       "    </tr>\n",
       "    <tr>\n",
       "      <th>6</th>\n",
       "      <td>language</td>\n",
       "      <td>1</td>\n",
       "      <td>4.440969</td>\n",
       "      <td>4.440969</td>\n",
       "    </tr>\n",
       "    <tr>\n",
       "      <th>7</th>\n",
       "      <td>thiswell</td>\n",
       "      <td>1</td>\n",
       "      <td>7.080026</td>\n",
       "      <td>7.080026</td>\n",
       "    </tr>\n",
       "    <tr>\n",
       "      <th>8</th>\n",
       "      <td>done</td>\n",
       "      <td>1</td>\n",
       "      <td>4.084294</td>\n",
       "      <td>4.084294</td>\n",
       "    </tr>\n",
       "    <tr>\n",
       "      <th>9</th>\n",
       "      <td>bro</td>\n",
       "      <td>1</td>\n",
       "      <td>2.698000</td>\n",
       "      <td>2.698000</td>\n",
       "    </tr>\n",
       "  </tbody>\n",
       "</table>\n",
       "</div>"
      ],
      "text/plain": [
       "          words  tf       idf     tfidf\n",
       "0           one   1  2.558238  2.558238\n",
       "1         would   1  4.246813  4.246813\n",
       "2          able   1  3.168003  3.168003\n",
       "3       explain   1  2.397895  2.397895\n",
       "4  transmission   1  2.227996  2.227996\n",
       "5        easier   1  6.386879  6.386879\n",
       "6      language   1  4.440969  4.440969\n",
       "7      thiswell   1  7.080026  7.080026\n",
       "8          done   1  4.084294  4.084294\n",
       "9           bro   1  2.698000  2.698000"
      ]
     },
     "execution_count": 39,
     "metadata": {},
     "output_type": "execute_result"
    }
   ],
   "source": [
    "tf1['tfidf'] = tf1['tf'] * tf1['idf']\n",
    "tf1"
   ]
  },
  {
   "cell_type": "markdown",
   "id": "97735da2",
   "metadata": {},
   "source": [
    "# 7. SENTIMENTAL ANALYSIS"
   ]
  },
  {
   "cell_type": "code",
   "execution_count": 40,
   "id": "4042c0f1",
   "metadata": {},
   "outputs": [],
   "source": [
    "from nltk.sentiment.vader import SentimentIntensityAnalyzer\n",
    "sia = SentimentIntensityAnalyzer()"
   ]
  },
  {
   "cell_type": "code",
   "execution_count": 41,
   "id": "732bd175",
   "metadata": {},
   "outputs": [
    {
     "data": {
      "text/html": [
       "<div>\n",
       "<style scoped>\n",
       "    .dataframe tbody tr th:only-of-type {\n",
       "        vertical-align: middle;\n",
       "    }\n",
       "\n",
       "    .dataframe tbody tr th {\n",
       "        vertical-align: top;\n",
       "    }\n",
       "\n",
       "    .dataframe thead th {\n",
       "        text-align: right;\n",
       "    }\n",
       "</style>\n",
       "<table border=\"1\" class=\"dataframe\">\n",
       "  <thead>\n",
       "    <tr style=\"text-align: right;\">\n",
       "      <th></th>\n",
       "      <th>Comment</th>\n",
       "      <th>sentiment Score</th>\n",
       "    </tr>\n",
       "  </thead>\n",
       "  <tbody>\n",
       "    <tr>\n",
       "      <th>0</th>\n",
       "      <td>planning buy new car need guidance buy connect...</td>\n",
       "      <td>0.136364</td>\n",
       "    </tr>\n",
       "    <tr>\n",
       "      <th>1</th>\n",
       "      <td>one would able explain transmission easier lan...</td>\n",
       "      <td>0.500000</td>\n",
       "    </tr>\n",
       "    <tr>\n",
       "      <th>2</th>\n",
       "      <td>find imt interesting bcos dont deal irritating...</td>\n",
       "      <td>0.100000</td>\n",
       "    </tr>\n",
       "    <tr>\n",
       "      <th>3</th>\n",
       "      <td>helpful also add timestamps itll make easier n...</td>\n",
       "      <td>0.214286</td>\n",
       "    </tr>\n",
       "    <tr>\n",
       "      <th>4</th>\n",
       "      <td>wow damn sure one could explained u great box ...</td>\n",
       "      <td>0.398611</td>\n",
       "    </tr>\n",
       "  </tbody>\n",
       "</table>\n",
       "</div>"
      ],
      "text/plain": [
       "                                             Comment  sentiment Score\n",
       "0  planning buy new car need guidance buy connect...         0.136364\n",
       "1  one would able explain transmission easier lan...         0.500000\n",
       "2  find imt interesting bcos dont deal irritating...         0.100000\n",
       "3  helpful also add timestamps itll make easier n...         0.214286\n",
       "4  wow damn sure one could explained u great box ...         0.398611"
      ]
     },
     "execution_count": 41,
     "metadata": {},
     "output_type": "execute_result"
    }
   ],
   "source": [
    "data1['sentiment Score'] = data1['Comment'].apply(lambda x: TextBlob(x).sentiment[0] )\n",
    "data1[['Comment','sentiment Score']].head()"
   ]
  },
  {
   "cell_type": "code",
   "execution_count": 42,
   "id": "df6c563d",
   "metadata": {},
   "outputs": [
    {
     "data": {
      "text/html": [
       "<div>\n",
       "<style scoped>\n",
       "    .dataframe tbody tr th:only-of-type {\n",
       "        vertical-align: middle;\n",
       "    }\n",
       "\n",
       "    .dataframe tbody tr th {\n",
       "        vertical-align: top;\n",
       "    }\n",
       "\n",
       "    .dataframe thead th {\n",
       "        text-align: right;\n",
       "    }\n",
       "</style>\n",
       "<table border=\"1\" class=\"dataframe\">\n",
       "  <thead>\n",
       "    <tr style=\"text-align: right;\">\n",
       "      <th></th>\n",
       "      <th>Comment</th>\n",
       "      <th>sentiment Score</th>\n",
       "      <th>Sentiment</th>\n",
       "    </tr>\n",
       "  </thead>\n",
       "  <tbody>\n",
       "    <tr>\n",
       "      <th>0</th>\n",
       "      <td>planning buy new car need guidance buy connect...</td>\n",
       "      <td>0.136364</td>\n",
       "      <td>Positive</td>\n",
       "    </tr>\n",
       "    <tr>\n",
       "      <th>1</th>\n",
       "      <td>one would able explain transmission easier lan...</td>\n",
       "      <td>0.500000</td>\n",
       "      <td>Positive</td>\n",
       "    </tr>\n",
       "    <tr>\n",
       "      <th>2</th>\n",
       "      <td>find imt interesting bcos dont deal irritating...</td>\n",
       "      <td>0.100000</td>\n",
       "      <td>Positive</td>\n",
       "    </tr>\n",
       "    <tr>\n",
       "      <th>3</th>\n",
       "      <td>helpful also add timestamps itll make easier n...</td>\n",
       "      <td>0.214286</td>\n",
       "      <td>Positive</td>\n",
       "    </tr>\n",
       "    <tr>\n",
       "      <th>4</th>\n",
       "      <td>wow damn sure one could explained u great box ...</td>\n",
       "      <td>0.398611</td>\n",
       "      <td>Positive</td>\n",
       "    </tr>\n",
       "  </tbody>\n",
       "</table>\n",
       "</div>"
      ],
      "text/plain": [
       "                                             Comment  sentiment Score  \\\n",
       "0  planning buy new car need guidance buy connect...         0.136364   \n",
       "1  one would able explain transmission easier lan...         0.500000   \n",
       "2  find imt interesting bcos dont deal irritating...         0.100000   \n",
       "3  helpful also add timestamps itll make easier n...         0.214286   \n",
       "4  wow damn sure one could explained u great box ...         0.398611   \n",
       "\n",
       "  Sentiment  \n",
       "0  Positive  \n",
       "1  Positive  \n",
       "2  Positive  \n",
       "3  Positive  \n",
       "4  Positive  "
      ]
     },
     "execution_count": 42,
     "metadata": {},
     "output_type": "execute_result"
    }
   ],
   "source": [
    "data1['Sentiment'] = data1['sentiment Score'].apply(lambda s : 'Positive' if s > 0 else ('Neutral' if s == 0 else 'Negative'))\n",
    "data1[['Comment','sentiment Score','Sentiment']].head()"
   ]
  },
  {
   "cell_type": "code",
   "execution_count": 43,
   "id": "d254998a",
   "metadata": {},
   "outputs": [
    {
     "data": {
      "text/plain": [
       "Positive    686\n",
       "Neutral     434\n",
       "Negative     68\n",
       "Name: Sentiment, dtype: int64"
      ]
     },
     "execution_count": 43,
     "metadata": {},
     "output_type": "execute_result"
    }
   ],
   "source": [
    "data1.Sentiment.value_counts()"
   ]
  },
  {
   "cell_type": "code",
   "execution_count": 44,
   "id": "ab5fb585",
   "metadata": {},
   "outputs": [],
   "source": [
    "from sklearn.preprocessing import LabelEncoder"
   ]
  },
  {
   "cell_type": "code",
   "execution_count": 45,
   "id": "323e21b6",
   "metadata": {},
   "outputs": [],
   "source": [
    "le = LabelEncoder()\n",
    "data1['Sentiment'] = le.fit_transform(data1['Sentiment'])"
   ]
  },
  {
   "cell_type": "code",
   "execution_count": 46,
   "id": "1741a156",
   "metadata": {},
   "outputs": [
    {
     "data": {
      "image/png": "[encoded data removed]",
      "text/plain": [
       "<Figure size 720x504 with 1 Axes>"
      ]
     },
     "metadata": {
      "needs_background": "light"
     },
     "output_type": "display_data"
    }
   ],
   "source": [
    "plt.figure(figsize=(10,7))\n",
    "sns.countplot( x='Sentiment', y=None, data = data1)\n",
    "plt.title('Distribution of Sentimental Analysis')\n",
    "plt.show()"
   ]
  },
  {
   "cell_type": "markdown",
   "id": "21db7092",
   "metadata": {},
   "source": [
    "# 8. Visualization"
   ]
  },
  {
   "cell_type": "markdown",
   "id": "29053de1",
   "metadata": {},
   "source": [
    "## 8.1 WORD CLOUD FOR MOST POPULAR WORDS"
   ]
  },
  {
   "cell_type": "code",
   "execution_count": 47,
   "id": "d5dd6faf",
   "metadata": {},
   "outputs": [
    {
     "data": {
      "image/png": "[encoded data removed]",
      "text/plain": [
       "<Figure size 720x504 with 1 Axes>"
      ]
     },
     "metadata": {
      "needs_background": "light"
     },
     "output_type": "display_data"
    }
   ],
   "source": [
    "all_words = ' '.join([text for text in data1['Comment']])\n",
    "from wordcloud import WordCloud\n",
    "wordcloud = WordCloud(width=800, height=500, random_state=21, max_font_size=110).generate(all_words)\n",
    "\n",
    "plt.figure(figsize=(10, 7))\n",
    "plt.imshow(wordcloud, interpolation=\"bilinear\")\n",
    "plt.axis('off')\n",
    "plt.show()"
   ]
  },
  {
   "cell_type": "code",
   "execution_count": 52,
   "id": "da7c21de",
   "metadata": {},
   "outputs": [
    {
     "name": "stderr",
     "output_type": "stream",
     "text": [
      "[nltk_data] Downloading package stopwords to\n",
      "[nltk_data]     C:\\Users\\joins\\AppData\\Roaming\\nltk_data...\n",
      "[nltk_data]   Package stopwords is already up-to-date!\n"
     ]
    }
   ],
   "source": [
    "import nltk\n",
    "nltk.download('stopwords')\n",
    "stop=set(stopwords.words('english'))"
   ]
  },
  {
   "cell_type": "markdown",
   "id": "7dbe4e07",
   "metadata": {},
   "source": [
    "## 8.2 MOST COMMON STOP WORD"
   ]
  },
  {
   "cell_type": "code",
   "execution_count": 53,
   "id": "a7dddd33",
   "metadata": {},
   "outputs": [],
   "source": [
    "corpus=[]\n",
    "new = data1['Comment'].str.split()\n",
    "new=new.values.tolist()\n",
    "corpus=[word for i in new for word in i]\n",
    "\n",
    "from collections import defaultdict\n",
    "dic=defaultdict(int)\n",
    "for word in corpus:\n",
    "    if word in stop:\n",
    "        dic[word]+=1"
   ]
  },
  {
   "cell_type": "code",
   "execution_count": 54,
   "id": "f48cf951",
   "metadata": {},
   "outputs": [],
   "source": [
    "def plot_top_stopwords_barchart(text):\n",
    "    stop=set(stopwords.words('english'))\n",
    "    \n",
    "    new= text.str.split()\n",
    "    new=new.values.tolist()\n",
    "    corpus=[word for i in new for word in i]\n",
    "    from collections import defaultdict\n",
    "    dic=defaultdict(int)\n",
    "    for word in corpus:\n",
    "        if word in stop:\n",
    "            dic[word]+=1\n",
    "            \n",
    "    top=sorted(dic.items(), key=lambda x:x[1],reverse=True)[:10] \n",
    "    x,y=zip(*top)\n",
    "    plt.bar(x,y)"
   ]
  },
  {
   "cell_type": "code",
   "execution_count": 55,
   "id": "c8ea6a39",
   "metadata": {},
   "outputs": [
    {
     "data": {
      "image/png": "[encoded data removed]",
      "text/plain": [
       "<Figure size 432x288 with 1 Axes>"
      ]
     },
     "metadata": {
      "needs_background": "light"
     },
     "output_type": "display_data"
    }
   ],
   "source": [
    "plot_top_stopwords_barchart(data1['Comment'])"
   ]
  },
  {
   "cell_type": "code",
   "execution_count": 59,
   "id": "990fe5f0",
   "metadata": {},
   "outputs": [],
   "source": [
    "from collections import  Counter"
   ]
  },
  {
   "cell_type": "markdown",
   "id": "3256c816",
   "metadata": {},
   "source": [
    "## 8.3 MOST COMMON NON STOP WORD"
   ]
  },
  {
   "cell_type": "code",
   "execution_count": 60,
   "id": "5481ccbf",
   "metadata": {},
   "outputs": [],
   "source": [
    "def plot_top_non_stopwords_barchart(text):\n",
    "    stop=set(stopwords.words('english'))\n",
    "    \n",
    "    new= text.str.split()\n",
    "    new=new.values.tolist()\n",
    "    corpus=[word for i in new for word in i]\n",
    "\n",
    "    counter=Counter(corpus)\n",
    "    most=counter.most_common()\n",
    "    x, y=[], []\n",
    "    for word,count in most[:40]:\n",
    "        if (word not in stop):\n",
    "            x.append(word)\n",
    "            y.append(count)\n",
    "            \n",
    "    sns.barplot(x=y,y=x)"
   ]
  },
  {
   "cell_type": "code",
   "execution_count": 65,
   "id": "b0b0e6f0",
   "metadata": {},
   "outputs": [
    {
     "data": {
      "image/png": "[encoded data removed]",
      "text/plain": [
       "<Figure size 936x648 with 1 Axes>"
      ]
     },
     "metadata": {
      "needs_background": "light"
     },
     "output_type": "display_data"
    }
   ],
   "source": [
    "plt.figure(figsize=(13,9))\n",
    "plot_top_non_stopwords_barchart(data1['Comment'])"
   ]
  },
  {
   "cell_type": "markdown",
   "id": "f532c617",
   "metadata": {},
   "source": [
    "# 9. N-GRAM EXPLORATION"
   ]
  },
  {
   "cell_type": "code",
   "execution_count": 66,
   "id": "9686b84d",
   "metadata": {},
   "outputs": [],
   "source": [
    "from sklearn.feature_extraction.text import CountVectorizer\n",
    "from collections import  Counter\n",
    "\n",
    "def plot_top_ngrams_barchart(text, n=2):\n",
    "    stop=set(stopwords.words('english'))\n",
    "\n",
    "    new= text.str.split()\n",
    "    new=new.values.tolist()\n",
    "    corpus=[word for i in new for word in i]\n",
    "\n",
    "    def _get_top_ngram(corpus, n=None):\n",
    "        vec = CountVectorizer(ngram_range=(n, n)).fit(corpus)\n",
    "        bag_of_words = vec.transform(corpus)\n",
    "        sum_words = bag_of_words.sum(axis=0) \n",
    "        words_freq = [(word, sum_words[0, idx]) \n",
    "                      for word, idx in vec.vocabulary_.items()]\n",
    "        words_freq =sorted(words_freq, key = lambda x: x[1], reverse=True)\n",
    "        return words_freq[:10]\n",
    "\n",
    "    top_n_bigrams=_get_top_ngram(text,n)[:10]\n",
    "    x,y=map(list,zip(*top_n_bigrams))\n",
    "    sns.barplot(x=y,y=x)"
   ]
  },
  {
   "cell_type": "code",
   "execution_count": 68,
   "id": "4d9cb46c",
   "metadata": {},
   "outputs": [
    {
     "data": {
      "image/png": "[encoded data removed]",
      "text/plain": [
       "<Figure size 936x504 with 1 Axes>"
      ]
     },
     "metadata": {
      "needs_background": "light"
     },
     "output_type": "display_data"
    }
   ],
   "source": [
    "plt.figure(figsize=(13,7))\n",
    "plot_top_ngrams_barchart(data1['Comment'],2)"
   ]
  },
  {
   "cell_type": "code",
   "execution_count": 72,
   "id": "45a0cf39",
   "metadata": {},
   "outputs": [
    {
     "name": "stderr",
     "output_type": "stream",
     "text": [
      "[nltk_data] Downloading package vader_lexicon to\n",
      "[nltk_data]     C:\\Users\\joins\\AppData\\Roaming\\nltk_data...\n",
      "[nltk_data]   Package vader_lexicon is already up-to-date!\n"
     ]
    },
    {
     "data": {
      "text/plain": [
       "<BarContainer object of 3 artists>"
      ]
     },
     "execution_count": 72,
     "metadata": {},
     "output_type": "execute_result"
    },
    {
     "data": {
      "image/png": "[encoded data removed]",
      "text/plain": [
       "<Figure size 432x288 with 1 Axes>"
      ]
     },
     "metadata": {
      "needs_background": "light"
     },
     "output_type": "display_data"
    }
   ],
   "source": [
    "from nltk.sentiment.vader import SentimentIntensityAnalyzer\n",
    "\n",
    "nltk.download('vader_lexicon')\n",
    "sid = SentimentIntensityAnalyzer()\n",
    "\n",
    "def get_vader_score(sent):\n",
    "    ss = sid.polarity_scores(sent)\n",
    "    return np.argmax(list(ss.values())[:-1])\n",
    "data1['polarity']=data1['Comment'].\\\n",
    "    map(lambda x: get_vader_score(x))\n",
    "polarity=data1['polarity'].replace({0:'neg',1:'neu',2:'pos'})\n",
    "\n",
    "plt.bar(polarity.value_counts().index,\n",
    "        polarity.value_counts())"
   ]
  },
  {
   "cell_type": "markdown",
   "id": "76c6445d",
   "metadata": {},
   "source": [
    "# 10. NAMED ENTITY RECOGNITION"
   ]
  },
  {
   "cell_type": "code",
   "execution_count": 74,
   "id": "e88dbfcd",
   "metadata": {},
   "outputs": [],
   "source": [
    "import spacy\n",
    "\n",
    "nlp = spacy.load(\"en_core_web_sm\")"
   ]
  },
  {
   "cell_type": "code",
   "execution_count": 75,
   "id": "a9731eaf",
   "metadata": {},
   "outputs": [
    {
     "data": {
      "text/plain": [
       "[('India', 'GPE'), ('Iran', 'GPE'), ('Chabahar', 'GPE'), ('Thursday', 'DATE')]"
      ]
     },
     "execution_count": 75,
     "metadata": {},
     "output_type": "execute_result"
    }
   ],
   "source": [
    "doc=nlp('India and Iran have agreed to boost the economic viability \\\n",
    "of the strategic Chabahar port through various measures, \\\n",
    "including larger subsidies to merchant shipping firms using the facility, \\\n",
    "people familiar with the development said on Thursday.')\n",
    "\n",
    "[(x.text,x.label_) for x in doc.ents]"
   ]
  },
  {
   "cell_type": "code",
   "execution_count": 76,
   "id": "ea3316ad",
   "metadata": {},
   "outputs": [
    {
     "data": {
      "text/html": [
       "<span class=\"tex2jax_ignore\"><div class=\"entities\" style=\"line-height: 2.5; direction: ltr\">\n",
       "<mark class=\"entity\" style=\"background: #feca74; padding: 0.45em 0.6em; margin: 0 0.25em; line-height: 1; border-radius: 0.35em;\">\n",
       "    India\n",
       "    <span style=\"font-size: 0.8em; font-weight: bold; line-height: 1; border-radius: 0.35em; vertical-align: middle; margin-left: 0.5rem\">GPE</span>\n",
       "</mark>\n",
       " and \n",
       "<mark class=\"entity\" style=\"background: #feca74; padding: 0.45em 0.6em; margin: 0 0.25em; line-height: 1; border-radius: 0.35em;\">\n",
       "    Iran\n",
       "    <span style=\"font-size: 0.8em; font-weight: bold; line-height: 1; border-radius: 0.35em; vertical-align: middle; margin-left: 0.5rem\">GPE</span>\n",
       "</mark>\n",
       " have agreed to boost the economic viability of the strategic \n",
       "<mark class=\"entity\" style=\"background: #feca74; padding: 0.45em 0.6em; margin: 0 0.25em; line-height: 1; border-radius: 0.35em;\">\n",
       "    Chabahar\n",
       "    <span style=\"font-size: 0.8em; font-weight: bold; line-height: 1; border-radius: 0.35em; vertical-align: middle; margin-left: 0.5rem\">GPE</span>\n",
       "</mark>\n",
       " port through various measures, including larger subsidies to merchant shipping firms using the facility, people familiar with the development said on \n",
       "<mark class=\"entity\" style=\"background: #bfe1d9; padding: 0.45em 0.6em; margin: 0 0.25em; line-height: 1; border-radius: 0.35em;\">\n",
       "    Thursday\n",
       "    <span style=\"font-size: 0.8em; font-weight: bold; line-height: 1; border-radius: 0.35em; vertical-align: middle; margin-left: 0.5rem\">DATE</span>\n",
       "</mark>\n",
       ".</div></span>"
      ],
      "text/plain": [
       "<IPython.core.display.HTML object>"
      ]
     },
     "metadata": {},
     "output_type": "display_data"
    }
   ],
   "source": [
    "from spacy import displacy\n",
    "\n",
    "displacy.render(doc, style='ent')"
   ]
  },
  {
   "cell_type": "code",
   "execution_count": 77,
   "id": "e8658bd1",
   "metadata": {},
   "outputs": [],
   "source": [
    "def ner(text):\n",
    "    doc=nlp(text)\n",
    "    return [X.label_ for X in doc.ents]\n",
    "\n",
    "ent=data1['Comment'].\\\n",
    "    apply(lambda x : ner(x))\n",
    "ent=[x for sub in ent for x in sub]\n",
    "\n",
    "counter=Counter(ent)\n",
    "count=counter.most_common()"
   ]
  },
  {
   "cell_type": "code",
   "execution_count": 79,
   "id": "611f5598",
   "metadata": {},
   "outputs": [
    {
     "data": {
      "image/png": "[encoded data removed]",
      "text/plain": [
       "<Figure size 936x648 with 1 Axes>"
      ]
     },
     "metadata": {
      "needs_background": "light"
     },
     "output_type": "display_data"
    }
   ],
   "source": [
    "plt.figure(figsize=(13,9))\n",
    "x,y=map(list,zip(*count))\n",
    "sns.barplot(x=y,y=x)\n",
    "plt.show()"
   ]
  },
  {
   "cell_type": "markdown",
   "id": "d109666b",
   "metadata": {},
   "source": [
    "### NER AS PER GPE"
   ]
  },
  {
   "cell_type": "code",
   "execution_count": 80,
   "id": "fed36641",
   "metadata": {},
   "outputs": [
    {
     "data": {
      "text/plain": [
       "<AxesSubplot:>"
      ]
     },
     "execution_count": 80,
     "metadata": {},
     "output_type": "execute_result"
    },
    {
     "data": {
      "image/png": "[encoded data removed]",
      "text/plain": [
       "<Figure size 432x288 with 1 Axes>"
      ]
     },
     "metadata": {
      "needs_background": "light"
     },
     "output_type": "display_data"
    }
   ],
   "source": [
    "def ner(text,ent=\"GPE\"):\n",
    "    doc=nlp(text)\n",
    "    return [X.text for X in doc.ents if X.label_ == ent]\n",
    "\n",
    "gpe=data1['Comment'].apply(lambda x: ner(x))\n",
    "gpe=[i for x in gpe for i in x]\n",
    "counter=Counter(gpe)\n",
    "\n",
    "x,y=map(list,zip(*counter.most_common(10)))\n",
    "sns.barplot(y,x)"
   ]
  },
  {
   "cell_type": "markdown",
   "id": "98a6f179",
   "metadata": {},
   "source": [
    "### NEP AS PER PERSON"
   ]
  },
  {
   "cell_type": "code",
   "execution_count": 82,
   "id": "8a80ee43",
   "metadata": {},
   "outputs": [
    {
     "data": {
      "image/png": "[encoded data removed]",
      "text/plain": [
       "<Figure size 936x648 with 1 Axes>"
      ]
     },
     "metadata": {
      "needs_background": "light"
     },
     "output_type": "display_data"
    }
   ],
   "source": [
    "per=data1['Comment'].apply(lambda x: ner(x,\"PERSON\"))\n",
    "per=[i for x in per for i in x]\n",
    "counter=Counter(per)\n",
    "\n",
    "plt.figure(figsize=(13,9))\n",
    "x,y=map(list,zip(*counter.most_common(10)))\n",
    "sns.barplot(y,x)\n",
    "plt.show()"
   ]
  },
  {
   "cell_type": "code",
   "execution_count": 86,
   "id": "fdca1786",
   "metadata": {},
   "outputs": [
    {
     "name": "stderr",
     "output_type": "stream",
     "text": [
      "[nltk_data] Downloading package averaged_perceptron_tagger to\n",
      "[nltk_data]     C:\\Users\\joins\\AppData\\Roaming\\nltk_data...\n",
      "[nltk_data]   Unzipping taggers\\averaged_perceptron_tagger.zip.\n"
     ]
    },
    {
     "data": {
      "text/plain": [
       "[('The', 'DT'),\n",
       " ('greatest', 'JJS'),\n",
       " ('comeback', 'NN'),\n",
       " ('stories', 'NNS'),\n",
       " ('in', 'IN'),\n",
       " ('2019', 'CD')]"
      ]
     },
     "execution_count": 86,
     "metadata": {},
     "output_type": "execute_result"
    }
   ],
   "source": [
    "import nltk\n",
    "nltk.download('averaged_perceptron_tagger')\n",
    "sentence=\"The greatest comeback stories in 2019\"\n",
    "tokens = word_tokenize(sentence)\n",
    "nltk.pos_tag(tokens)"
   ]
  },
  {
   "cell_type": "code",
   "execution_count": 87,
   "id": "bc3f9742",
   "metadata": {},
   "outputs": [
    {
     "data": {
      "text/html": [
       "<span class=\"tex2jax_ignore\"><svg xmlns=\"http://www.w3.org/2000/svg\" xmlns:xlink=\"http://www.w3.org/1999/xlink\" xml:lang=\"en\" id=\"a4247a40625841fcb2d89cb15ae72246-0\" class=\"displacy\" width=\"590\" height=\"272.0\" direction=\"ltr\" style=\"max-width: none; height: 272.0px; color: #000000; background: #ffffff; font-family: Arial; direction: ltr\">\n",
       "<text class=\"displacy-token\" fill=\"currentColor\" text-anchor=\"middle\" y=\"182.0\">\n",
       "    <tspan class=\"displacy-word\" fill=\"currentColor\" x=\"50\">The</tspan>\n",
       "    <tspan class=\"displacy-tag\" dy=\"2em\" fill=\"currentColor\" x=\"50\">DET</tspan>\n",
       "</text>\n",
       "\n",
       "<text class=\"displacy-token\" fill=\"currentColor\" text-anchor=\"middle\" y=\"182.0\">\n",
       "    <tspan class=\"displacy-word\" fill=\"currentColor\" x=\"140\">greatest</tspan>\n",
       "    <tspan class=\"displacy-tag\" dy=\"2em\" fill=\"currentColor\" x=\"140\">ADJ</tspan>\n",
       "</text>\n",
       "\n",
       "<text class=\"displacy-token\" fill=\"currentColor\" text-anchor=\"middle\" y=\"182.0\">\n",
       "    <tspan class=\"displacy-word\" fill=\"currentColor\" x=\"230\">comeback</tspan>\n",
       "    <tspan class=\"displacy-tag\" dy=\"2em\" fill=\"currentColor\" x=\"230\">NOUN</tspan>\n",
       "</text>\n",
       "\n",
       "<text class=\"displacy-token\" fill=\"currentColor\" text-anchor=\"middle\" y=\"182.0\">\n",
       "    <tspan class=\"displacy-word\" fill=\"currentColor\" x=\"320\">stories</tspan>\n",
       "    <tspan class=\"displacy-tag\" dy=\"2em\" fill=\"currentColor\" x=\"320\">NOUN</tspan>\n",
       "</text>\n",
       "\n",
       "<text class=\"displacy-token\" fill=\"currentColor\" text-anchor=\"middle\" y=\"182.0\">\n",
       "    <tspan class=\"displacy-word\" fill=\"currentColor\" x=\"410\">in</tspan>\n",
       "    <tspan class=\"displacy-tag\" dy=\"2em\" fill=\"currentColor\" x=\"410\">ADP</tspan>\n",
       "</text>\n",
       "\n",
       "<text class=\"displacy-token\" fill=\"currentColor\" text-anchor=\"middle\" y=\"182.0\">\n",
       "    <tspan class=\"displacy-word\" fill=\"currentColor\" x=\"500\">2019</tspan>\n",
       "    <tspan class=\"displacy-tag\" dy=\"2em\" fill=\"currentColor\" x=\"500\">NUM</tspan>\n",
       "</text>\n",
       "\n",
       "<g class=\"displacy-arrow\">\n",
       "    <path class=\"displacy-arc\" id=\"arrow-a4247a40625841fcb2d89cb15ae72246-0-0\" stroke-width=\"2px\" d=\"M70,137.0 C70,2.0 320.0,2.0 320.0,137.0\" fill=\"none\" stroke=\"currentColor\"/>\n",
       "    <text dy=\"1.25em\" style=\"font-size: 0.8em; letter-spacing: 1px\">\n",
       "        <textPath xlink:href=\"#arrow-a4247a40625841fcb2d89cb15ae72246-0-0\" class=\"displacy-label\" startOffset=\"50%\" side=\"left\" fill=\"currentColor\" text-anchor=\"middle\">det</textPath>\n",
       "    </text>\n",
       "    <path class=\"displacy-arrowhead\" d=\"M70,139.0 L62,127.0 78,127.0\" fill=\"currentColor\"/>\n",
       "</g>\n",
       "\n",
       "<g class=\"displacy-arrow\">\n",
       "    <path class=\"displacy-arc\" id=\"arrow-a4247a40625841fcb2d89cb15ae72246-0-1\" stroke-width=\"2px\" d=\"M160,137.0 C160,47.0 315.0,47.0 315.0,137.0\" fill=\"none\" stroke=\"currentColor\"/>\n",
       "    <text dy=\"1.25em\" style=\"font-size: 0.8em; letter-spacing: 1px\">\n",
       "        <textPath xlink:href=\"#arrow-a4247a40625841fcb2d89cb15ae72246-0-1\" class=\"displacy-label\" startOffset=\"50%\" side=\"left\" fill=\"currentColor\" text-anchor=\"middle\">amod</textPath>\n",
       "    </text>\n",
       "    <path class=\"displacy-arrowhead\" d=\"M160,139.0 L152,127.0 168,127.0\" fill=\"currentColor\"/>\n",
       "</g>\n",
       "\n",
       "<g class=\"displacy-arrow\">\n",
       "    <path class=\"displacy-arc\" id=\"arrow-a4247a40625841fcb2d89cb15ae72246-0-2\" stroke-width=\"2px\" d=\"M250,137.0 C250,92.0 310.0,92.0 310.0,137.0\" fill=\"none\" stroke=\"currentColor\"/>\n",
       "    <text dy=\"1.25em\" style=\"font-size: 0.8em; letter-spacing: 1px\">\n",
       "        <textPath xlink:href=\"#arrow-a4247a40625841fcb2d89cb15ae72246-0-2\" class=\"displacy-label\" startOffset=\"50%\" side=\"left\" fill=\"currentColor\" text-anchor=\"middle\">compound</textPath>\n",
       "    </text>\n",
       "    <path class=\"displacy-arrowhead\" d=\"M250,139.0 L242,127.0 258,127.0\" fill=\"currentColor\"/>\n",
       "</g>\n",
       "\n",
       "<g class=\"displacy-arrow\">\n",
       "    <path class=\"displacy-arc\" id=\"arrow-a4247a40625841fcb2d89cb15ae72246-0-3\" stroke-width=\"2px\" d=\"M340,137.0 C340,92.0 400.0,92.0 400.0,137.0\" fill=\"none\" stroke=\"currentColor\"/>\n",
       "    <text dy=\"1.25em\" style=\"font-size: 0.8em; letter-spacing: 1px\">\n",
       "        <textPath xlink:href=\"#arrow-a4247a40625841fcb2d89cb15ae72246-0-3\" class=\"displacy-label\" startOffset=\"50%\" side=\"left\" fill=\"currentColor\" text-anchor=\"middle\">prep</textPath>\n",
       "    </text>\n",
       "    <path class=\"displacy-arrowhead\" d=\"M400.0,139.0 L408.0,127.0 392.0,127.0\" fill=\"currentColor\"/>\n",
       "</g>\n",
       "\n",
       "<g class=\"displacy-arrow\">\n",
       "    <path class=\"displacy-arc\" id=\"arrow-a4247a40625841fcb2d89cb15ae72246-0-4\" stroke-width=\"2px\" d=\"M430,137.0 C430,92.0 490.0,92.0 490.0,137.0\" fill=\"none\" stroke=\"currentColor\"/>\n",
       "    <text dy=\"1.25em\" style=\"font-size: 0.8em; letter-spacing: 1px\">\n",
       "        <textPath xlink:href=\"#arrow-a4247a40625841fcb2d89cb15ae72246-0-4\" class=\"displacy-label\" startOffset=\"50%\" side=\"left\" fill=\"currentColor\" text-anchor=\"middle\">pobj</textPath>\n",
       "    </text>\n",
       "    <path class=\"displacy-arrowhead\" d=\"M490.0,139.0 L498.0,127.0 482.0,127.0\" fill=\"currentColor\"/>\n",
       "</g>\n",
       "</svg></span>"
      ],
      "text/plain": [
       "<IPython.core.display.HTML object>"
      ]
     },
     "metadata": {},
     "output_type": "display_data"
    }
   ],
   "source": [
    "doc = nlp('The greatest comeback stories in 2019')\n",
    "displacy.render(doc, style='dep', jupyter=True, options={'distance': 90})"
   ]
  },
  {
   "cell_type": "markdown",
   "id": "c0d8fd1a",
   "metadata": {},
   "source": [
    "# 11. Exploring through text complexity"
   ]
  },
  {
   "cell_type": "code",
   "execution_count": 95,
   "id": "db5b32b0",
   "metadata": {},
   "outputs": [
    {
     "name": "stdout",
     "output_type": "stream",
     "text": [
      "Collecting textstat\n",
      "  Using cached textstat-0.7.3-py3-none-any.whl (105 kB)\n",
      "Collecting pyphen\n",
      "  Using cached pyphen-0.13.0-py3-none-any.whl (2.0 MB)\n",
      "Installing collected packages: pyphen, textstat\n",
      "Successfully installed pyphen-0.13.0 textstat-0.7.3\n",
      "Note: you may need to restart the kernel to use updated packages.\n"
     ]
    },
    {
     "name": "stderr",
     "output_type": "stream",
     "text": [
      "WARNING: Ignoring invalid distribution -rotobuf (c:\\users\\joins\\downloads\\new folder\\lib\\site-packages)\n",
      "WARNING: Ignoring invalid distribution -rotobuf (c:\\users\\joins\\downloads\\new folder\\lib\\site-packages)\n",
      "WARNING: Ignoring invalid distribution -rotobuf (c:\\users\\joins\\downloads\\new folder\\lib\\site-packages)\n",
      "WARNING: Ignoring invalid distribution -rotobuf (c:\\users\\joins\\downloads\\new folder\\lib\\site-packages)\n",
      "WARNING: Ignoring invalid distribution -rotobuf (c:\\users\\joins\\downloads\\new folder\\lib\\site-packages)\n",
      "WARNING: Ignoring invalid distribution -rotobuf (c:\\users\\joins\\downloads\\new folder\\lib\\site-packages)\n",
      "WARNING: Ignoring invalid distribution -rotobuf (c:\\users\\joins\\downloads\\new folder\\lib\\site-packages)\n",
      "WARNING: Ignoring invalid distribution -rotobuf (c:\\users\\joins\\downloads\\new folder\\lib\\site-packages)\n"
     ]
    }
   ],
   "source": [
    "pip install textstat"
   ]
  },
  {
   "cell_type": "code",
   "execution_count": 97,
   "id": "1fa541b7",
   "metadata": {},
   "outputs": [
    {
     "data": {
      "image/png": "[encoded data removed]",
      "text/plain": [
       "<Figure size 432x288 with 1 Axes>"
      ]
     },
     "metadata": {
      "needs_background": "light"
     },
     "output_type": "display_data"
    },
    {
     "data": {
      "text/plain": [
       "<Figure size 936x648 with 0 Axes>"
      ]
     },
     "metadata": {},
     "output_type": "display_data"
    }
   ],
   "source": [
    "from textstat import flesch_reading_ease\n",
    "\n",
    "data1['Comment'].\\\n",
    "   apply(lambda x : flesch_reading_ease(x)).hist()\n",
    "plt.figure(figsize=(13,9))\n",
    "plt.show()"
   ]
  },
  {
   "cell_type": "code",
   "execution_count": null,
   "id": "965ee194",
   "metadata": {},
   "outputs": [],
   "source": []
  }
 ],
 "metadata": {
  "kernelspec": {
   "display_name": "Python 3 (ipykernel)",
   "language": "python",
   "name": "python3"
  },
  "language_info": {
   "codemirror_mode": {
    "name": "ipython",
    "version": 3
   },
   "file_extension": ".py",
   "mimetype": "text/x-python",
   "name": "python",
   "nbconvert_exporter": "python",
   "pygments_lexer": "ipython3",
   "version": "3.9.7"
  }
 },
 "nbformat": 4,
 "nbformat_minor": 5
}
